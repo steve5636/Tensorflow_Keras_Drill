{
 "cells": [
  {
   "cell_type": "code",
   "execution_count": 0,
   "metadata": {
    "colab": {},
    "colab_type": "code",
    "id": "dxBHHM9ySmu_"
   },
   "outputs": [],
   "source": [
    "pip install --upgrade tensorflow"
   ]
  },
  {
   "cell_type": "code",
   "execution_count": 0,
   "metadata": {
    "colab": {
     "base_uri": "https://localhost:8080/",
     "height": 122
    },
    "colab_type": "code",
    "executionInfo": {
     "elapsed": 23341,
     "status": "ok",
     "timestamp": 1581912835211,
     "user": {
      "displayName": "박제건",
      "photoUrl": "https://lh3.googleusercontent.com/a-/AAuE7mDs6JORCJdehVzcwppEOdmHmnTAGST_PoAuHLXk=s64",
      "userId": "01930663103651943875"
     },
     "user_tz": -540
    },
    "id": "Qf8CuaJsVr36",
    "outputId": "63537303-541c-42b2-9e00-5d55c24eb677"
   },
   "outputs": [
    {
     "name": "stdout",
     "output_type": "stream",
     "text": [
      "Go to this URL in a browser: https://accounts.google.com/o/oauth2/auth?client_id=947318989803-6bn6qk8qdgf4n4g3pfee6491hc0brc4i.apps.googleusercontent.com&redirect_uri=urn%3aietf%3awg%3aoauth%3a2.0%3aoob&response_type=code&scope=email%20https%3a%2f%2fwww.googleapis.com%2fauth%2fdocs.test%20https%3a%2f%2fwww.googleapis.com%2fauth%2fdrive%20https%3a%2f%2fwww.googleapis.com%2fauth%2fdrive.photos.readonly%20https%3a%2f%2fwww.googleapis.com%2fauth%2fpeopleapi.readonly\n",
      "\n",
      "Enter your authorization code:\n",
      "··········\n",
      "Mounted at /content/drive\n"
     ]
    }
   ],
   "source": [
    "from google.colab import drive\n",
    "drive.mount('/content/drive')"
   ]
  },
  {
   "cell_type": "code",
   "execution_count": 0,
   "metadata": {
    "colab": {
     "base_uri": "https://localhost:8080/",
     "height": 37,
     "resources": {
      "http://localhost:8080/nbextensions/google.colab/files.js": {
       "data": "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",
       "headers": [
        [
         "content-type",
         "application/javascript"
        ]
       ],
       "ok": true,
       "status": 200,
       "status_text": ""
      }
     }
    },
    "colab_type": "code",
    "executionInfo": {
     "elapsed": 37437,
     "status": "ok",
     "timestamp": 1581915646727,
     "user": {
      "displayName": "박제건",
      "photoUrl": "https://lh3.googleusercontent.com/a-/AAuE7mDs6JORCJdehVzcwppEOdmHmnTAGST_PoAuHLXk=s64",
      "userId": "01930663103651943875"
     },
     "user_tz": -540
    },
    "id": "jE7cXosMhImF",
    "outputId": "4caa21b0-a886-40e7-af7a-c0d02034d0e9"
   },
   "outputs": [
    {
     "data": {
      "text/html": [
       "\n",
       "     <input type=\"file\" id=\"files-74cb311a-035d-45df-a409-2459ed5eb3f8\" name=\"files[]\" multiple disabled />\n",
       "     <output id=\"result-74cb311a-035d-45df-a409-2459ed5eb3f8\">\n",
       "      Upload widget is only available when the cell has been executed in the\n",
       "      current browser session. Please rerun this cell to enable.\n",
       "      </output>\n",
       "      <script src=\"/nbextensions/google.colab/files.js\"></script> "
      ],
      "text/plain": [
       "<IPython.core.display.HTML object>"
      ]
     },
     "metadata": {
      "tags": []
     },
     "output_type": "display_data"
    }
   ],
   "source": [
    "from google.colab import files\n",
    "dataset_file_dict = files.upload()"
   ]
  },
  {
   "cell_type": "code",
   "execution_count": 3,
   "metadata": {
    "colab": {
     "base_uri": "https://localhost:8080/",
     "height": 51
    },
    "colab_type": "code",
    "executionInfo": {
     "elapsed": 2601,
     "status": "ok",
     "timestamp": 1581917911472,
     "user": {
      "displayName": "박제건",
      "photoUrl": "https://lh3.googleusercontent.com/a-/AAuE7mDs6JORCJdehVzcwppEOdmHmnTAGST_PoAuHLXk=s64",
      "userId": "01930663103651943875"
     },
     "user_tz": -540
    },
    "id": "2MP9WZbPp4Vy",
    "outputId": "aa05de60-da40-4283-8abd-eef8ac5ffc27"
   },
   "outputs": [
    {
     "name": "stdout",
     "output_type": "stream",
     "text": [
      "NVIDIA-SMI has failed because it couldn't communicate with the NVIDIA driver. Make sure that the latest NVIDIA driver is installed and running.\n",
      "\n"
     ]
    }
   ],
   "source": [
    "! nvidia-smi"
   ]
  },
  {
   "cell_type": "code",
   "execution_count": 0,
   "metadata": {
    "colab": {
     "base_uri": "https://localhost:8080/",
     "height": 1000
    },
    "colab_type": "code",
    "executionInfo": {
     "elapsed": 1975762,
     "status": "ok",
     "timestamp": 1581914816900,
     "user": {
      "displayName": "박제건",
      "photoUrl": "https://lh3.googleusercontent.com/a-/AAuE7mDs6JORCJdehVzcwppEOdmHmnTAGST_PoAuHLXk=s64",
      "userId": "01930663103651943875"
     },
     "user_tz": -540
    },
    "id": "wxJGPOO_ShtT",
    "outputId": "5efd6359-1f2b-43ec-bd5b-d90d16bf940c"
   },
   "outputs": [
    {
     "name": "stdout",
     "output_type": "stream",
     "text": [
      "Model: \"vgg16\"\n",
      "_________________________________________________________________\n",
      "Layer (type)                 Output Shape              Param #   \n",
      "=================================================================\n",
      "input_2 (InputLayer)         [(None, 150, 150, 3)]     0         \n",
      "_________________________________________________________________\n",
      "block1_conv1 (Conv2D)        (None, 150, 150, 64)      1792      \n",
      "_________________________________________________________________\n",
      "block1_conv2 (Conv2D)        (None, 150, 150, 64)      36928     \n",
      "_________________________________________________________________\n",
      "block1_pool (MaxPooling2D)   (None, 75, 75, 64)        0         \n",
      "_________________________________________________________________\n",
      "block2_conv1 (Conv2D)        (None, 75, 75, 128)       73856     \n",
      "_________________________________________________________________\n",
      "block2_conv2 (Conv2D)        (None, 75, 75, 128)       147584    \n",
      "_________________________________________________________________\n",
      "block2_pool (MaxPooling2D)   (None, 37, 37, 128)       0         \n",
      "_________________________________________________________________\n",
      "block3_conv1 (Conv2D)        (None, 37, 37, 256)       295168    \n",
      "_________________________________________________________________\n",
      "block3_conv2 (Conv2D)        (None, 37, 37, 256)       590080    \n",
      "_________________________________________________________________\n",
      "block3_conv3 (Conv2D)        (None, 37, 37, 256)       590080    \n",
      "_________________________________________________________________\n",
      "block3_pool (MaxPooling2D)   (None, 18, 18, 256)       0         \n",
      "_________________________________________________________________\n",
      "block4_conv1 (Conv2D)        (None, 18, 18, 512)       1180160   \n",
      "_________________________________________________________________\n",
      "block4_conv2 (Conv2D)        (None, 18, 18, 512)       2359808   \n",
      "_________________________________________________________________\n",
      "block4_conv3 (Conv2D)        (None, 18, 18, 512)       2359808   \n",
      "_________________________________________________________________\n",
      "block4_pool (MaxPooling2D)   (None, 9, 9, 512)         0         \n",
      "_________________________________________________________________\n",
      "block5_conv1 (Conv2D)        (None, 9, 9, 512)         2359808   \n",
      "_________________________________________________________________\n",
      "block5_conv2 (Conv2D)        (None, 9, 9, 512)         2359808   \n",
      "_________________________________________________________________\n",
      "block5_conv3 (Conv2D)        (None, 9, 9, 512)         2359808   \n",
      "_________________________________________________________________\n",
      "block5_pool (MaxPooling2D)   (None, 4, 4, 512)         0         \n",
      "=================================================================\n",
      "Total params: 14,714,688\n",
      "Trainable params: 14,714,688\n",
      "Non-trainable params: 0\n",
      "_________________________________________________________________\n",
      "/content\n",
      "Model: \"sequential\"\n",
      "_________________________________________________________________\n",
      "Layer (type)                 Output Shape              Param #   \n",
      "=================================================================\n",
      "vgg16 (Model)                (None, 4, 4, 512)         14714688  \n",
      "_________________________________________________________________\n",
      "flatten (Flatten)            (None, 8192)              0         \n",
      "_________________________________________________________________\n",
      "dense (Dense)                (None, 256)               2097408   \n",
      "_________________________________________________________________\n",
      "dense_1 (Dense)              (None, 1)                 257       \n",
      "=================================================================\n",
      "Total params: 16,812,353\n",
      "Trainable params: 16,812,353\n",
      "Non-trainable params: 0\n",
      "_________________________________________________________________\n",
      "conv_base를 동결하기 전 훈련되는 가중치의 수: 30\n",
      "conv_base를 동결한 후 훈련되는 가중치의 수: 4\n",
      "Found 2000 images belonging to 2 classes.\n",
      "Found 1000 images belonging to 2 classes.\n",
      "WARNING:tensorflow:From /usr/local/lib/python3.6/dist-packages/tensorflow_core/python/ops/nn_impl.py:183: where (from tensorflow.python.ops.array_ops) is deprecated and will be removed in a future version.\n",
      "Instructions for updating:\n",
      "Use tf.where in 2.0, which has the same broadcast rule as np.where\n",
      "Epoch 1/30\n",
      " 99/100 [============================>.] - ETA: 9s - loss: 0.5165 - binary_accuracy: 0.7545 Epoch 1/30\n",
      "100/100 [==============================] - 1405s 14s/step - loss: 0.5158 - binary_accuracy: 0.7550 - val_loss: 0.3894 - val_binary_accuracy: 0.8550\n",
      "Epoch 2/30\n",
      " 99/100 [============================>.] - ETA: 0s - loss: 0.3970 - binary_accuracy: 0.8374Epoch 1/30\n",
      "100/100 [==============================] - 19s 194ms/step - loss: 0.3974 - binary_accuracy: 0.8370 - val_loss: 0.3307 - val_binary_accuracy: 0.8760\n",
      "Epoch 3/30\n",
      " 99/100 [============================>.] - ETA: 0s - loss: 0.3551 - binary_accuracy: 0.8480Epoch 1/30\n",
      "100/100 [==============================] - 19s 193ms/step - loss: 0.3550 - binary_accuracy: 0.8480 - val_loss: 0.2887 - val_binary_accuracy: 0.8930\n",
      "Epoch 4/30\n",
      " 99/100 [============================>.] - ETA: 0s - loss: 0.3163 - binary_accuracy: 0.8682Epoch 1/30\n",
      "100/100 [==============================] - 19s 190ms/step - loss: 0.3154 - binary_accuracy: 0.8685 - val_loss: 0.2700 - val_binary_accuracy: 0.8940\n",
      "Epoch 5/30\n",
      " 99/100 [============================>.] - ETA: 0s - loss: 0.3031 - binary_accuracy: 0.8657Epoch 1/30\n",
      "100/100 [==============================] - 20s 196ms/step - loss: 0.3025 - binary_accuracy: 0.8665 - val_loss: 0.2605 - val_binary_accuracy: 0.8930\n",
      "Epoch 6/30\n",
      " 99/100 [============================>.] - ETA: 0s - loss: 0.2888 - binary_accuracy: 0.8768Epoch 1/30\n",
      "100/100 [==============================] - 19s 194ms/step - loss: 0.2899 - binary_accuracy: 0.8755 - val_loss: 0.2509 - val_binary_accuracy: 0.8980\n",
      "Epoch 7/30\n",
      " 99/100 [============================>.] - ETA: 0s - loss: 0.2773 - binary_accuracy: 0.8884Epoch 1/30\n",
      "100/100 [==============================] - 19s 190ms/step - loss: 0.2770 - binary_accuracy: 0.8885 - val_loss: 0.2509 - val_binary_accuracy: 0.8940\n",
      "Epoch 8/30\n",
      " 99/100 [============================>.] - ETA: 0s - loss: 0.2597 - binary_accuracy: 0.8965Epoch 1/30\n",
      "100/100 [==============================] - 19s 194ms/step - loss: 0.2585 - binary_accuracy: 0.8970 - val_loss: 0.2417 - val_binary_accuracy: 0.8980\n",
      "Epoch 9/30\n",
      " 99/100 [============================>.] - ETA: 0s - loss: 0.2445 - binary_accuracy: 0.9000Epoch 1/30\n",
      "100/100 [==============================] - 20s 197ms/step - loss: 0.2449 - binary_accuracy: 0.8995 - val_loss: 0.2525 - val_binary_accuracy: 0.8970\n",
      "Epoch 10/30\n",
      " 99/100 [============================>.] - ETA: 0s - loss: 0.2584 - binary_accuracy: 0.8929Epoch 1/30\n",
      "100/100 [==============================] - 19s 193ms/step - loss: 0.2568 - binary_accuracy: 0.8935 - val_loss: 0.2370 - val_binary_accuracy: 0.9050\n",
      "Epoch 11/30\n",
      " 99/100 [============================>.] - ETA: 0s - loss: 0.2435 - binary_accuracy: 0.9000Epoch 1/30\n",
      "100/100 [==============================] - 20s 198ms/step - loss: 0.2429 - binary_accuracy: 0.9005 - val_loss: 0.2334 - val_binary_accuracy: 0.9070\n",
      "Epoch 12/30\n",
      " 99/100 [============================>.] - ETA: 0s - loss: 0.2338 - binary_accuracy: 0.9056Epoch 1/30\n",
      "100/100 [==============================] - 20s 196ms/step - loss: 0.2346 - binary_accuracy: 0.9045 - val_loss: 0.2345 - val_binary_accuracy: 0.9040\n",
      "Epoch 13/30\n",
      " 99/100 [============================>.] - ETA: 0s - loss: 0.2398 - binary_accuracy: 0.9030Epoch 1/30\n",
      "100/100 [==============================] - 19s 191ms/step - loss: 0.2409 - binary_accuracy: 0.9020 - val_loss: 0.2336 - val_binary_accuracy: 0.9040\n",
      "Epoch 14/30\n",
      " 99/100 [============================>.] - ETA: 0s - loss: 0.2237 - binary_accuracy: 0.9081Epoch 1/30\n",
      "100/100 [==============================] - 19s 193ms/step - loss: 0.2266 - binary_accuracy: 0.9075 - val_loss: 0.2332 - val_binary_accuracy: 0.9110\n",
      "Epoch 15/30\n",
      " 99/100 [============================>.] - ETA: 0s - loss: 0.2186 - binary_accuracy: 0.9167Epoch 1/30\n",
      "100/100 [==============================] - 19s 192ms/step - loss: 0.2183 - binary_accuracy: 0.9165 - val_loss: 0.2337 - val_binary_accuracy: 0.9120\n",
      "Epoch 16/30\n",
      " 99/100 [============================>.] - ETA: 0s - loss: 0.2303 - binary_accuracy: 0.9086Epoch 1/30\n",
      "100/100 [==============================] - 19s 189ms/step - loss: 0.2304 - binary_accuracy: 0.9085 - val_loss: 0.2347 - val_binary_accuracy: 0.9020\n",
      "Epoch 17/30\n",
      " 99/100 [============================>.] - ETA: 0s - loss: 0.2123 - binary_accuracy: 0.9197Epoch 1/30\n",
      "100/100 [==============================] - 19s 194ms/step - loss: 0.2110 - binary_accuracy: 0.9205 - val_loss: 0.2313 - val_binary_accuracy: 0.9040\n",
      "Epoch 18/30\n",
      " 99/100 [============================>.] - ETA: 0s - loss: 0.2153 - binary_accuracy: 0.9141Epoch 1/30\n",
      "100/100 [==============================] - 19s 192ms/step - loss: 0.2143 - binary_accuracy: 0.9150 - val_loss: 0.2466 - val_binary_accuracy: 0.8940\n",
      "Epoch 19/30\n",
      " 99/100 [============================>.] - ETA: 0s - loss: 0.2026 - binary_accuracy: 0.9162Epoch 1/30\n",
      "100/100 [==============================] - 19s 193ms/step - loss: 0.2020 - binary_accuracy: 0.9165 - val_loss: 0.2339 - val_binary_accuracy: 0.9030\n",
      "Epoch 20/30\n",
      " 99/100 [============================>.] - ETA: 0s - loss: 0.2081 - binary_accuracy: 0.9146Epoch 1/30\n",
      "100/100 [==============================] - 19s 193ms/step - loss: 0.2087 - binary_accuracy: 0.9145 - val_loss: 0.2331 - val_binary_accuracy: 0.9030\n",
      "Epoch 21/30\n",
      " 99/100 [============================>.] - ETA: 0s - loss: 0.2062 - binary_accuracy: 0.9172Epoch 1/30\n",
      "100/100 [==============================] - 19s 193ms/step - loss: 0.2060 - binary_accuracy: 0.9175 - val_loss: 0.2424 - val_binary_accuracy: 0.9040\n",
      "Epoch 22/30\n",
      " 99/100 [============================>.] - ETA: 0s - loss: 0.1983 - binary_accuracy: 0.9187Epoch 1/30\n",
      "100/100 [==============================] - 19s 193ms/step - loss: 0.1981 - binary_accuracy: 0.9185 - val_loss: 0.2327 - val_binary_accuracy: 0.9000\n",
      "Epoch 23/30\n",
      " 99/100 [============================>.] - ETA: 0s - loss: 0.1983 - binary_accuracy: 0.9177Epoch 1/30\n",
      "100/100 [==============================] - 19s 191ms/step - loss: 0.1978 - binary_accuracy: 0.9180 - val_loss: 0.2334 - val_binary_accuracy: 0.9020\n",
      "Epoch 24/30\n",
      " 99/100 [============================>.] - ETA: 0s - loss: 0.1991 - binary_accuracy: 0.9217Epoch 1/30\n",
      "100/100 [==============================] - 19s 194ms/step - loss: 0.1992 - binary_accuracy: 0.9220 - val_loss: 0.2448 - val_binary_accuracy: 0.8990\n",
      "Epoch 25/30\n",
      " 99/100 [============================>.] - ETA: 0s - loss: 0.1876 - binary_accuracy: 0.9268Epoch 1/30\n",
      "100/100 [==============================] - 19s 192ms/step - loss: 0.1882 - binary_accuracy: 0.9260 - val_loss: 0.2347 - val_binary_accuracy: 0.9020\n",
      "Epoch 26/30\n",
      " 99/100 [============================>.] - ETA: 0s - loss: 0.1877 - binary_accuracy: 0.9202Epoch 1/30\n",
      "100/100 [==============================] - 19s 192ms/step - loss: 0.1881 - binary_accuracy: 0.9200 - val_loss: 0.2346 - val_binary_accuracy: 0.9060\n",
      "Epoch 27/30\n",
      " 99/100 [============================>.] - ETA: 0s - loss: 0.1822 - binary_accuracy: 0.9318Epoch 1/30\n",
      "100/100 [==============================] - 20s 196ms/step - loss: 0.1825 - binary_accuracy: 0.9315 - val_loss: 0.2507 - val_binary_accuracy: 0.9000\n",
      "Epoch 28/30\n",
      " 99/100 [============================>.] - ETA: 0s - loss: 0.1900 - binary_accuracy: 0.9227Epoch 1/30\n",
      "100/100 [==============================] - 19s 192ms/step - loss: 0.1905 - binary_accuracy: 0.9230 - val_loss: 0.2357 - val_binary_accuracy: 0.9010\n",
      "Epoch 29/30\n",
      " 99/100 [============================>.] - ETA: 0s - loss: 0.1793 - binary_accuracy: 0.9333Epoch 1/30\n",
      "100/100 [==============================] - 19s 192ms/step - loss: 0.1793 - binary_accuracy: 0.9330 - val_loss: 0.2425 - val_binary_accuracy: 0.9010\n",
      "Epoch 30/30\n",
      " 99/100 [============================>.] - ETA: 0s - loss: 0.1780 - binary_accuracy: 0.9258Epoch 1/30\n",
      "100/100 [==============================] - 19s 194ms/step - loss: 0.1780 - binary_accuracy: 0.9260 - val_loss: 0.2373 - val_binary_accuracy: 0.9070\n"
     ]
    },
    {
     "data": {
      "image/png": "[encoded data removed]",
      "text/plain": [
       "<Figure size 432x288 with 1 Axes>"
      ]
     },
     "metadata": {
      "tags": []
     },
     "output_type": "display_data"
    },
    {
     "data": {
      "image/png": "[encoded data removed]",
      "text/plain": [
       "<Figure size 432x288 with 1 Axes>"
      ]
     },
     "metadata": {
      "tags": []
     },
     "output_type": "display_data"
    },
    {
     "name": "stdout",
     "output_type": "stream",
     "text": [
      "CPU times: user 9min 56s, sys: 22.2 s, total: 10min 18s\n",
      "Wall time: 32min 54s\n"
     ]
    }
   ],
   "source": [
    "%%time\n",
    "import tensorflow as tf\n",
    "import matplotlib.pyplot as plt\n",
    "import os, shutil\n",
    "import numpy as np\n",
    "\n",
    "from tensorflow import keras\n",
    "from tensorflow.keras import layers\n",
    "from tensorflow.keras import models\n",
    "from tensorflow.keras import optimizers\n",
    "from tensorflow.keras.preprocessing import image\n",
    "from tensorflow.keras.preprocessing.image import ImageDataGenerator\n",
    "from tensorflow.keras.applications import VGG16\n",
    "\n",
    "conv_base = VGG16(weights = 'imagenet', include_top = False, input_shape = (150, 150, 3))\n",
    "    # weights : 모델을 초기화할 가중치 체크포인트(checkpoint)를 지정\n",
    "    # include_top : 네트워크의 최상위 완전 연결 분류기를 포함할지 안 할지 지정. 기본값은 ImageNet의 클래스 1000개에 대응되는 완전\n",
    "    # 연결 분류기를 포함. 별도의 (강아지와 고양이 2개의 클래스를 구분하는) 완전 연결 층을 추가하려고 하므로 이를 포함하지 않는다.\n",
    "    # input_shape : 네트워크에 주입할 이미지 텐서의 크기. 이 매개변수는 선택사항. 이 값을 지정하지 않으면 네트워크가 어떤 크기의\n",
    "    # 입력도 처리할 수 있다.\n",
    "    \n",
    "conv_base.summary()\n",
    "\n",
    "currentPath = os.getcwd()\n",
    "print(currentPath)\n",
    "os.chdir('/content/drive/My Drive/Colab Notebooks/jupyter_project/')\n",
    "\n",
    "\n",
    "\n",
    "# 훈련, 검증, 테스트 분할을 위한 디렉터리\n",
    "train_dir = '/content/drive/My Drive/Colab Notebooks/jupyter_project/Datasets/train'\n",
    "\n",
    "validation_dir = '/content/drive/My Drive/Colab Notebooks/jupyter_project/Datasets/validation'\n",
    "\n",
    "test_dir = '/content/drive/My Drive/Colab Notebooks/jupyter_project/Datasets/test'\n",
    "\n",
    "\n",
    "# 훈련용 고양이 사진 디렉터리\n",
    "train_cats_dir = '/content/drive/My Drive/Colab Notebooks/jupyter_project/Datasets/train/cats'\n",
    "\n",
    "# 훈련용 강아지 사진 디렉터리\n",
    "train_dogs_dir = '/content/drive/My Drive/Colab Notebooks/jupyter_project/Datasets/train/dogs'\n",
    "\n",
    "\n",
    "# 검증용 고양이 사진 디렉터리\n",
    "validation_cats_dir = '/content/drive/My Drive/Colab Notebooks/jupyter_project/Datasets/validation/cats'\n",
    "\n",
    "# 검증용 강아지 사진 디렉터리\n",
    "validation_dogs_dir = '/content/drive/My Drive/Colab Notebooks/jupyter_project/Datasets/validation/dogs'\n",
    "\n",
    "# 테스트용 고양이 사진 디렉터리\n",
    "test_cats_dir = '/content/drive/My Drive/Colab Notebooks/jupyter_project/Datasets/test/cats'\n",
    "\n",
    "# 테스트용 강아지 사진 디렉터리\n",
    "test_dogs_dir = '/content/drive/My Drive/Colab Notebooks/jupyter_project/Datasets/test/dogs'\n",
    "\n",
    "\n",
    "#-------------------------------------------------------------------------------------------\n",
    "\n",
    "\n",
    "# 합성곱 기반 층 위에 완전 연결 분류기 추가하기\n",
    "\n",
    "model = models.Sequential()\n",
    "model.add(conv_base)\n",
    "model.add(layers.Flatten())\n",
    "model.add(layers.Dense(256, activation = 'relu'))\n",
    "model.add(layers.Dense(1, activation = 'sigmoid'))\n",
    "model.summary()\n",
    "\n",
    "print('conv_base를 동결하기 전 훈련되는 가중치의 수:', len(model.trainable_weights))\n",
    "conv_base.trainable = False\n",
    "\n",
    "print('conv_base를 동결한 후 훈련되는 가중치의 수:', len(model.trainable_weights))\n",
    "    # 추가한 2개의 Dense층 가중치만 훈련(층마다 2개씩 가중치 행렬과 편향 벡터 총 4개의 텐서)\n",
    "    \n",
    "#동결된 합성곱 기반 층과 함께 모델을 end-to-end로 훈련하기\n",
    "\n",
    "train_datagen = ImageDataGenerator(\n",
    "    rescale = 1./255,\n",
    "    rotation_range = 20,\n",
    "    width_shift_range = 0.1,\n",
    "    height_shift_range = 0.1,\n",
    "    zoom_range = 0.1,\n",
    "    horizontal_flip = True,\n",
    "    fill_mode = 'nearest')\n",
    "\n",
    "test_datagen = ImageDataGenerator(rescale = 1./255)\n",
    "\n",
    "train_generator = train_datagen.flow_from_directory(\n",
    "    train_dir,\n",
    "    target_size = (150, 150),\n",
    "    batch_size = 20,\n",
    "    class_mode = 'binary')\n",
    "\n",
    "validation_generator = test_datagen.flow_from_directory(\n",
    "    validation_dir,\n",
    "    target_size = (150, 150),\n",
    "    batch_size = 20,\n",
    "    class_mode = 'binary')\n",
    "\n",
    "model.compile(\n",
    "    loss = 'binary_crossentropy',\n",
    "    optimizer = optimizers.RMSprop(lr = 2e-5),\n",
    "    metrics = ['binary_accuracy'])\n",
    "\n",
    "history = model.fit_generator(\n",
    "    train_generator,\n",
    "    steps_per_epoch = 100,\n",
    "    epochs = 30,\n",
    "    validation_data = validation_generator,\n",
    "    validation_steps = 50)\n",
    "\n",
    "# 훈련의 정확도와 손실 그래프\n",
    "acc = history.history['binary_accuracy']\n",
    "val_acc = history.history['val_binary_accuracy']\n",
    "loss = history.history['loss']\n",
    "val_loss = history.history['val_loss']\n",
    "\n",
    "epochs = range(1, len(acc) + 1)\n",
    "\n",
    "plt.plot(epochs, acc, 'bo', label = 'Training acc')\n",
    "plt.plot(epochs, val_acc,  'b', label = 'Validation loss')\n",
    "plt.title('Training and Validation loss')\n",
    "plt.legend()\n",
    "\n",
    "plt.figure()\n",
    "\n",
    "plt.plot(epochs, loss, 'bo', label = 'Training Loss')\n",
    "plt.plot(epochs, val_loss, 'b', label = 'Validation Loss')\n",
    "plt.title('Training and Validation loss')\n",
    "plt.legend()\n",
    "\n",
    "plt.show()\n"
   ]
  }
 ],
 "metadata": {
  "accelerator": "GPU",
  "colab": {
   "collapsed_sections": [],
   "name": "Drill (5) - 5 ConvNet + Dropout + Data Augmentation + Pretrained Model(VGG16).ipynb",
   "provenance": []
  },
  "kernelspec": {
   "display_name": "Python 3",
   "language": "python",
   "name": "python3"
  },
  "language_info": {
   "codemirror_mode": {
    "name": "ipython",
    "version": 3
   },
   "file_extension": ".py",
   "mimetype": "text/x-python",
   "name": "python",
   "nbconvert_exporter": "python",
   "pygments_lexer": "ipython3",
   "version": "3.6.10"
  }
 },
 "nbformat": 4,
 "nbformat_minor": 1
}
