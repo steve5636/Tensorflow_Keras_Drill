{
 "cells": [
  {
   "cell_type": "code",
   "execution_count": 1,
   "metadata": {
    "colab": {
     "base_uri": "https://localhost:8080/",
     "height": 1000
    },
    "colab_type": "code",
    "executionInfo": {
     "elapsed": 29019,
     "status": "ok",
     "timestamp": 1580615170150,
     "user": {
      "displayName": "박제건",
      "photoUrl": "https://lh3.googleusercontent.com/a-/AAuE7mDs6JORCJdehVzcwppEOdmHmnTAGST_PoAuHLXk=s64",
      "userId": "01930663103651943875"
     },
     "user_tz": -540
    },
    "id": "Zc_kNf6b_S7C",
    "outputId": "d0725e70-d306-4453-80a2-2a9b57f36f68"
   },
   "outputs": [
    {
     "data": {
      "text/html": [
       "<p style=\"color: red;\">\n",
       "The default version of TensorFlow in Colab will soon switch to TensorFlow 2.x.<br>\n",
       "We recommend you <a href=\"https://www.tensorflow.org/guide/migrate\" target=\"_blank\">upgrade</a> now \n",
       "or ensure your notebook will continue to use TensorFlow 1.x via the <code>%tensorflow_version 1.x</code> magic:\n",
       "<a href=\"https://colab.research.google.com/notebooks/tensorflow_version.ipynb\" target=\"_blank\">more info</a>.</p>\n"
      ],
      "text/plain": [
       "<IPython.core.display.HTML object>"
      ]
     },
     "metadata": {
      "tags": []
     },
     "output_type": "display_data"
    },
    {
     "name": "stdout",
     "output_type": "stream",
     "text": [
      "Downloading data from https://storage.googleapis.com/tensorflow/tf-keras-datasets/imdb.npz\n",
      "17465344/17464789 [==============================] - 0s 0us/step\n",
      "WARNING:tensorflow:From /usr/local/lib/python3.6/dist-packages/tensorflow_core/python/ops/resource_variable_ops.py:1630: calling BaseResourceVariable.__init__ (from tensorflow.python.ops.resource_variable_ops) with constraint is deprecated and will be removed in a future version.\n",
      "Instructions for updating:\n",
      "If using Keras pass *_constraint arguments to layers.\n",
      "WARNING:tensorflow:From /usr/local/lib/python3.6/dist-packages/tensorflow_core/python/ops/nn_impl.py:183: where (from tensorflow.python.ops.array_ops) is deprecated and will be removed in a future version.\n",
      "Instructions for updating:\n",
      "Use tf.where in 2.0, which has the same broadcast rule as np.where\n",
      "Train on 15000 samples, validate on 10000 samples\n",
      "Epoch 1/10\n",
      "15000/15000 [==============================] - 2s 119us/sample - loss: 0.5597 - acc: 0.7655 - val_loss: 0.3875 - val_acc: 0.8575\n",
      "Epoch 2/10\n",
      "15000/15000 [==============================] - 1s 97us/sample - loss: 0.2783 - acc: 0.9020 - val_loss: 0.2856 - val_acc: 0.8866\n",
      "Epoch 3/10\n",
      "15000/15000 [==============================] - 1s 96us/sample - loss: 0.1773 - acc: 0.9407 - val_loss: 0.2801 - val_acc: 0.8879\n",
      "Epoch 4/10\n",
      "15000/15000 [==============================] - 1s 98us/sample - loss: 0.1237 - acc: 0.9616 - val_loss: 0.3052 - val_acc: 0.8831\n",
      "Epoch 5/10\n",
      "15000/15000 [==============================] - 1s 96us/sample - loss: 0.0868 - acc: 0.9770 - val_loss: 0.3344 - val_acc: 0.8796\n",
      "Epoch 6/10\n",
      "15000/15000 [==============================] - 1s 96us/sample - loss: 0.0586 - acc: 0.9869 - val_loss: 0.3804 - val_acc: 0.8752\n",
      "Epoch 7/10\n",
      "15000/15000 [==============================] - 1s 96us/sample - loss: 0.0392 - acc: 0.9919 - val_loss: 0.4254 - val_acc: 0.8740\n",
      "Epoch 8/10\n",
      "15000/15000 [==============================] - 1s 97us/sample - loss: 0.0239 - acc: 0.9965 - val_loss: 0.4745 - val_acc: 0.8713\n",
      "Epoch 9/10\n",
      "15000/15000 [==============================] - 1s 97us/sample - loss: 0.0146 - acc: 0.9993 - val_loss: 0.5213 - val_acc: 0.8707\n",
      "Epoch 10/10\n",
      "15000/15000 [==============================] - 1s 95us/sample - loss: 0.0093 - acc: 0.9997 - val_loss: 0.5625 - val_acc: 0.8693\n"
     ]
    },
    {
     "data": {
      "image/png": "[encoded data removed]",
      "text/plain": [
       "<Figure size 432x288 with 1 Axes>"
      ]
     },
     "metadata": {
      "tags": []
     },
     "output_type": "display_data"
    },
    {
     "data": {
      "image/png": "[encoded data removed]",
      "text/plain": [
       "<Figure size 432x288 with 1 Axes>"
      ]
     },
     "metadata": {
      "tags": []
     },
     "output_type": "display_data"
    },
    {
     "name": "stdout",
     "output_type": "stream",
     "text": [
      "[[0.02260554]\n",
      " [0.9999993 ]\n",
      " [0.92850316]\n",
      " ...\n",
      " [0.00498426]\n",
      " [0.01013133]\n",
      " [0.86675936]]\n"
     ]
    }
   ],
   "source": [
    "import tensorflow as tf\n",
    "import numpy as np\n",
    "import matplotlib.pyplot as plt\n",
    "from tensorflow import keras\n",
    "\n",
    "imdb_data = tf.keras.datasets.imdb\n",
    "\n",
    "(train_data, train_labels), (test_data, test_labels) = imdb_data.load_data(num_words = 10000)\n",
    "\n",
    "'''\n",
    "print(train_data[0]) # 부정을 나타내는 0과 긍정을 나타내는 인덱스 1\n",
    "max([max(sequence) for sequence in train_data]) # 단어 인덱스 10000으로 제한 했으므로 최대는 9999\n",
    "\n",
    "\n",
    "word_index = imdb_data.get_word_index() # imdb_data.get_word_index는 단어와 정수 인덱스를 매핑한 dictionary 리턴\n",
    "\n",
    "reverse_word_index = dict([(value, key) for (key, value) in word_index.items()]) \n",
    "# items() 는 dictionary의 key 와 value를 list 로 반환을 하고, value와 key 값을 뒤집어줘서 dict 형식으로 반환.\n",
    "# 정수 인덱스와 단어를 매핑하도록 뒤집기\n",
    "\n",
    "decoded_review = ' '.join([reverse_word_index.get(i-3, '?') for i in train_data[0]])\n",
    "# print(decoded_review)\n",
    "\n",
    "\n",
    "train_data 을 디코딩하는데 get() 은 key값을 통해 value 를 찾아주고 못찾은 경우에는 '?' 로 대체. \n",
    "이 작업이 필요한 이유는 위에서 데이터를 받아올 때 num_words=10000 을 통해 만 개의 자주 쓰이는 단어만 가져왔으므로 \n",
    "나머지 단어에 대해서는 값이 존재하지 않으므로 다음 작업이 필요하다. 그리고 각 단어를 join() 을 통해서 공백으로 이어준다. \n",
    "이 때 0,1,2 에 해당하는 값은 '패딩', '문서 시작', '사전에 없음' 을 위함이므로 3을 빼고 계산한다.\n",
    "'''\n",
    "\n",
    "# 신경망 데이터 주입을 위해 텐서로 변환 (정수 시퀀스를 이진 행렬로 인코딩)\n",
    "\n",
    "def vectorize_sequence(sequences, dimension = 10000):\n",
    "    results = np.zeros((len(sequences), dimension))\n",
    "    # 크기가 (len(sequences), dimension)이고 모든 원소가 0인 행렬 생성\n",
    "    for i, sequence in enumerate(sequences):\n",
    "        results[i, sequence] = 1. # results[i]에서 특정 인덱스의 위치를 1로 만든다.\n",
    "    return results\n",
    "\n",
    "x_train = vectorize_sequence(train_data)\n",
    "x_test = vectorize_sequence(test_data)\n",
    "\n",
    "y_train = np.asarray(train_labels).astype('float32')\n",
    "y_test = np.asarray(test_labels).astype('float32')\n",
    "\n",
    "\n",
    "# 모델 정의\n",
    "model = tf.keras.models.Sequential()\n",
    "model.add(tf.keras.layers.Dense(16, activation = 'relu', input_shape = (10000,)))\n",
    "model.add(tf.keras.layers.Dense(16, activation = 'relu'))\n",
    "model.add(tf.keras.layers.Dense(16, activation = 'relu'))\n",
    "model.add(tf.keras.layers.Dense(1, activation = 'sigmoid'))\n",
    "\n",
    "\n",
    "# 모델 컴파일\n",
    "model.compile(optimizer = 'adam', loss = 'binary_crossentropy', metrics=['accuracy'])\n",
    "\n",
    "\n",
    "# 훈련 검증 데이터 세트 준비\n",
    "x_val = x_train[:10000]\n",
    "partial_x_train = x_train[10000:]\n",
    "y_val = y_train[:10000]\n",
    "partial_y_train = y_train[10000:]\n",
    "\n",
    "\n",
    "# 모델 훈련\n",
    "history = model.fit(partial_x_train,\n",
    "                    partial_y_train,\n",
    "                    epochs = 10,\n",
    "                    batch_size = 512,\n",
    "                    validation_data=(x_val, y_val))\n",
    "\n",
    "\n",
    "# 훈련과 검증손실 그리기\n",
    "\n",
    "history_dict = history.history\n",
    "loss = history_dict['loss']\n",
    "val_loss = history_dict['val_loss']\n",
    "\n",
    "epochs = range(1,len(loss)+1)\n",
    "\n",
    "plt.plot(epochs, loss, 'bo', label='Training loss')\n",
    "plt.plot(epochs, val_loss, 'b', label='Validation loss')\n",
    "plt.title('Training and validation loss')\n",
    "plt.xlabel('Epochs')\n",
    "plt.ylabel('Loss')\n",
    "plt.legend()\n",
    "plt.show()\n",
    "\n",
    "# 훈련과 검증 정확도 그리기\n",
    "\n",
    "plt.clf() # 그래프 초기화\n",
    "acc = history_dict['acc']\n",
    "val_acc = history_dict['val_acc']\n",
    "\n",
    "plt.plot(epochs, acc, 'bo', label='Training acc')\n",
    "plt.plot(epochs, val_acc, 'b', label= 'valadation acc')\n",
    "plt.title('Training and validation accuracy')\n",
    "plt.xlabel('Epochs')\n",
    "plt.ylabel('Accuracy')\n",
    "plt.legend()\n",
    "\n",
    "plt.show()\n",
    "\n",
    "print(model.predict(x_test))"
   ]
  },
  {
   "cell_type": "code",
   "execution_count": 0,
   "metadata": {
    "colab": {},
    "colab_type": "code",
    "id": "P0gqSG2N_S7J"
   },
   "outputs": [],
   "source": [
    ""
   ]
  }
 ],
 "metadata": {
  "accelerator": "TPU",
  "colab": {
   "collapsed_sections": [],
   "name": "Drill (2) IMDB Dataset Training.ipynb",
   "provenance": []
  },
  "kernelspec": {
   "display_name": "Python 3",
   "name": "python3"
  },
  "language_info": {
   "codemirror_mode": {
    "name": "ipython",
    "version": 3
   },
   "file_extension": ".py",
   "mimetype": "text/x-python",
   "name": "python",
   "nbconvert_exporter": "python",
   "pygments_lexer": "ipython3",
   "version": "3.7.6"
  }
 },
 "nbformat": 4,
 "nbformat_minor": 0
}
