{
 "cells": [
  {
   "cell_type": "code",
   "execution_count": 1,
   "metadata": {
    "colab": {
     "base_uri": "https://localhost:8080/",
     "height": 1000
    },
    "colab_type": "code",
    "executionInfo": {
     "elapsed": 58929,
     "status": "error",
     "timestamp": 1580802940160,
     "user": {
      "displayName": "박제건",
      "photoUrl": "https://lh3.googleusercontent.com/a-/AAuE7mDs6JORCJdehVzcwppEOdmHmnTAGST_PoAuHLXk=s64",
      "userId": "01930663103651943875"
     },
     "user_tz": -540
    },
    "id": "olYlfr3IKsaw",
    "outputId": "1b30d82e-b69f-45b8-ef18-c5fcdb68b53b"
   },
   "outputs": [
    {
     "name": "stderr",
     "output_type": "stream",
     "text": [
      "/Users/jaekunpark/opt/anaconda3/envs/test/lib/python3.6/site-packages/tensorflow_core/python/keras/datasets/reuters.py:113: VisibleDeprecationWarning: Creating an ndarray from ragged nested sequences (which is a list-or-tuple of lists-or-tuples-or ndarrays with different lengths or shapes) is deprecated. If you meant to do this, you must specify 'dtype=object' when creating the ndarray\n",
      "  x_train, y_train = np.array(xs[:idx]), np.array(labels[:idx])\n",
      "/Users/jaekunpark/opt/anaconda3/envs/test/lib/python3.6/site-packages/tensorflow_core/python/keras/datasets/reuters.py:114: VisibleDeprecationWarning: Creating an ndarray from ragged nested sequences (which is a list-or-tuple of lists-or-tuples-or ndarrays with different lengths or shapes) is deprecated. If you meant to do this, you must specify 'dtype=object' when creating the ndarray\n",
      "  x_test, y_test = np.array(xs[idx:]), np.array(labels[idx:])\n"
     ]
    },
    {
     "name": "stdout",
     "output_type": "stream",
     "text": [
      "CPU times: user 2 µs, sys: 1e+03 ns, total: 3 µs\n",
      "Wall time: 4.05 µs\n",
      "Train on 7982 samples, validate on 2246 samples\n",
      "Epoch 1/10\n",
      "7982/7982 [==============================] - 2s 225us/sample - loss: 3.0932 - accuracy: 0.4899 - val_loss: 2.1453 - val_accuracy: 0.5779\n",
      "Epoch 2/10\n",
      "7982/7982 [==============================] - 1s 146us/sample - loss: 1.6662 - accuracy: 0.6560 - val_loss: 1.4542 - val_accuracy: 0.6937\n",
      "Epoch 3/10\n",
      "7982/7982 [==============================] - 1s 146us/sample - loss: 1.1627 - accuracy: 0.7456 - val_loss: 1.2418 - val_accuracy: 0.7275\n",
      "Epoch 4/10\n",
      "7982/7982 [==============================] - 1s 145us/sample - loss: 0.8747 - accuracy: 0.8061 - val_loss: 1.1134 - val_accuracy: 0.7618\n",
      "Epoch 5/10\n",
      "7982/7982 [==============================] - 1s 145us/sample - loss: 0.6530 - accuracy: 0.8601 - val_loss: 1.0432 - val_accuracy: 0.7703\n",
      "Epoch 6/10\n",
      "7982/7982 [==============================] - 1s 146us/sample - loss: 0.4727 - accuracy: 0.9017 - val_loss: 1.0085 - val_accuracy: 0.7827\n",
      "Epoch 7/10\n",
      "7982/7982 [==============================] - 1s 147us/sample - loss: 0.3557 - accuracy: 0.9281 - val_loss: 0.9906 - val_accuracy: 0.7903\n",
      "Epoch 8/10\n",
      "7982/7982 [==============================] - 1s 147us/sample - loss: 0.2726 - accuracy: 0.9431 - val_loss: 1.0030 - val_accuracy: 0.7921\n",
      "Epoch 9/10\n",
      "7982/7982 [==============================] - 1s 145us/sample - loss: 0.2233 - accuracy: 0.9510 - val_loss: 1.0101 - val_accuracy: 0.7894\n",
      "Epoch 10/10\n",
      "7982/7982 [==============================] - 1s 134us/sample - loss: 0.1914 - accuracy: 0.9530 - val_loss: 1.0303 - val_accuracy: 0.7943\n",
      "2246/2246 [==============================] - 0s 146us/sample - loss: 1.0303 - accuracy: 0.7943\n",
      "[1.0302903293395616, 0.794301]\n",
      "['loss', 'accuracy']\n"
     ]
    },
    {
     "data": {
      "image/png": "[encoded data removed]",
      "text/plain": [
       "<Figure size 432x288 with 1 Axes>"
      ]
     },
     "metadata": {
      "needs_background": "light"
     },
     "output_type": "display_data"
    },
    {
     "data": {
      "image/png": "[encoded data removed]",
      "text/plain": [
       "<Figure size 432x288 with 1 Axes>"
      ]
     },
     "metadata": {
      "needs_background": "light"
     },
     "output_type": "display_data"
    }
   ],
   "source": [
    "import tensorflow as tf\n",
    "from tensorflow import keras\n",
    "import numpy as np\n",
    "import matplotlib.pyplot as plt\n",
    "# from keras.utils.np_utils import to_categorical 가 아래와 같이 변경되었으므로 유의 할 것\n",
    "from tensorflow.keras.utils import to_categorical\n",
    "from tensorflow.keras.models import Sequential\n",
    "from tensorflow.keras.layers import Dense, Dropout\n",
    "\n",
    "\n",
    "reuter_data = tf.keras.datasets.reuters\n",
    "(train_data, train_labels), (test_data, test_labels) = reuter_data.load_data(num_words = 30000)\n",
    "\n",
    "# len(train_data) = 8982 , len(test_data) = 2246\n",
    "\n",
    "# 로이터 데이터셋을 텍스트로 디코딩\n",
    "'''\n",
    "word_index = reuter_data.get_word_index()\n",
    "reverse_word_index = dict([(value, key) for (key, value) in word_index.items()])\n",
    "decoded_newswire = ' '.join([reverse_word_index.get(i -3, '?') for i in train_data[1]])\n",
    "print(decoded_newswire)\n",
    "'''\n",
    "\n",
    "# 데이터 인코딩(Convert to Integer Tensor)\n",
    "def vectorize_sequences(sequences, dimension = 30000):\n",
    "    results = np.zeros((len(sequences), dimension))\n",
    "    for i, sequence in enumerate(sequences):\n",
    "        results[i, sequence] = 1.\n",
    "    return results\n",
    "\n",
    "x_train = vectorize_sequences(train_data)\n",
    "x_test = vectorize_sequences(test_data)\n",
    "\n",
    "'''\n",
    "# 레이블 인코딩(One-Hot Encoding)\n",
    "def to_one_hot(labels, dimension = 46):\n",
    "    results = np.zeros((len(labels), dimension))\n",
    "    for i, label in enumerate(labels):\n",
    "        results[i, label] = 1.\n",
    "    return results\n",
    "\n",
    "one_hot_train_labels = to_one_hot(train_labels)\n",
    "one_hot_test_labels =  to_one_hot(test_labels)\n",
    "'''\n",
    "# from tensorflow.keras.utils import to_categorical 케라스 내장 함수 이용 레이블 인코딩\n",
    "# 레이블 정수 텐서로 변환시 loss 에서 sparse_categorical_crossentropy 사용\n",
    "one_hot_train_labels = to_categorical(train_labels)\n",
    "one_hot_test_labels = to_categorical(test_labels)\n",
    "\n",
    "\n",
    "# 모델 정의\n",
    "model = Sequential()\n",
    "model.add(Dense(128, activation = 'relu', input_shape = (30000,)))\n",
    "model.add(Dropout(0.3))\n",
    "model.add(Dense(128, activation = 'relu'))\n",
    "model.add(Dense(46, activation = 'softmax'))\n",
    "\n",
    "# 모델 컴파일\n",
    "model.compile(optimizer = 'adam', loss = 'categorical_crossentropy', metrics=['accuracy'])\n",
    "\n",
    "# 검증 세트 준비\n",
    "x_val = x_train[:1000]\n",
    "partial_x_train = x_train[1000:]\n",
    "\n",
    "y_val = one_hot_train_labels[:1000]\n",
    "partial_y_train = one_hot_train_labels[1000:]\n",
    "\n",
    "# 모델 훈련\n",
    "%time\n",
    "history = model.fit(partial_x_train, partial_y_train, \n",
    "                    epochs = 10, batch_size = 512, validation_data = (x_test, one_hot_test_labels))\n",
    "results = model.evaluate(x_test, one_hot_test_labels)\n",
    "print(results)\n",
    "print(model.metrics_names)\n",
    "\n",
    "# 훈련과 검증 손실 그리기\n",
    "loss = history.history['loss']\n",
    "val_loss = history.history['val_loss']\n",
    "\n",
    "epochs = range(1, len(loss) + 1)\n",
    "\n",
    "plt.plot(epochs, loss, 'bo', label = 'Training loss')\n",
    "plt.plot(epochs, val_loss, 'b', label = 'Validation loss')\n",
    "plt.title('Training and Validation Loss')\n",
    "plt.xlabel('Epochs')\n",
    "plt.ylabel('Loss')\n",
    "plt.legend()\n",
    "\n",
    "plt.show()\n",
    "\n",
    "# 훈련과 검증 정확도 그리기\n",
    "\n",
    "plt.clf()\n",
    "\n",
    "acc = history.history['accuracy']\n",
    "val_acc = history.history['val_accuracy']\n",
    "\n",
    "plt.plot(epochs, val_acc, 'b', label = 'Validation Acc')\n",
    "plt.plot(epochs, acc, 'bo', label = 'Training Acc')\n",
    "plt.title('Training and Validation Accuracy')\n",
    "plt.xlabel('Epochs')\n",
    "plt.ylabel('Accuracy')\n",
    "plt.legend()\n",
    "\n",
    "plt.show()\n"
   ]
  }
 ],
 "metadata": {
  "accelerator": "GPU",
  "colab": {
   "collapsed_sections": [],
   "name": "Drill(3) Reuter News Topic Classification.ipynb",
   "provenance": []
  },
  "kernelspec": {
   "display_name": "Python 3",
   "language": "python",
   "name": "python3"
  },
  "language_info": {
   "codemirror_mode": {
    "name": "ipython",
    "version": 3
   },
   "file_extension": ".py",
   "mimetype": "text/x-python",
   "name": "python",
   "nbconvert_exporter": "python",
   "pygments_lexer": "ipython3",
   "version": "3.6.10"
  }
 },
 "nbformat": 4,
 "nbformat_minor": 1
}
