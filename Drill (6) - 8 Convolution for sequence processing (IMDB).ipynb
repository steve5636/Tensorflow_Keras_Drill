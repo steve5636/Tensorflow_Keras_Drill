{
 "cells": [
  {
   "cell_type": "code",
   "execution_count": 3,
   "metadata": {
    "scrolled": true
   },
   "outputs": [
    {
     "name": "stdout",
     "output_type": "stream",
     "text": [
      "Data Loading...\n",
      "25000 Training Sequence\n",
      "25000 Test Sequence\n",
      "Sequence Padding (Samples * time)\n",
      "Size of x_train (25000, 1000)\n",
      "Size of x_test (25000, 1000)\n",
      "Model: \"sequential_2\"\n",
      "_________________________________________________________________\n",
      "Layer (type)                 Output Shape              Param #   \n",
      "=================================================================\n",
      "embedding_2 (Embedding)      (None, 1000, 128)         6400000   \n",
      "_________________________________________________________________\n",
      "conv1d_4 (Conv1D)            (None, 994, 32)           28704     \n",
      "_________________________________________________________________\n",
      "max_pooling1d_2 (MaxPooling1 (None, 198, 32)           0         \n",
      "_________________________________________________________________\n",
      "conv1d_5 (Conv1D)            (None, 192, 32)           7200      \n",
      "_________________________________________________________________\n",
      "global_max_pooling1d_2 (Glob (None, 32)                0         \n",
      "_________________________________________________________________\n",
      "dense_2 (Dense)              (None, 1)                 33        \n",
      "=================================================================\n",
      "Total params: 6,435,937\n",
      "Trainable params: 6,435,937\n",
      "Non-trainable params: 0\n",
      "_________________________________________________________________\n",
      "Train on 20000 samples, validate on 5000 samples\n",
      "Epoch 1/20\n",
      "20000/20000 [==============================] - 10s 490us/sample - loss: 0.9155 - accuracy: 0.5078 - val_loss: 0.6913 - val_accuracy: 0.5158\n",
      "Epoch 2/20\n",
      "20000/20000 [==============================] - 9s 455us/sample - loss: 0.6744 - accuracy: 0.6579 - val_loss: 0.6723 - val_accuracy: 0.6728\n",
      "Epoch 3/20\n",
      "20000/20000 [==============================] - 9s 457us/sample - loss: 0.6332 - accuracy: 0.7810 - val_loss: 0.6209 - val_accuracy: 0.7488\n",
      "Epoch 4/20\n",
      "20000/20000 [==============================] - 9s 458us/sample - loss: 0.5384 - accuracy: 0.8227 - val_loss: 0.4924 - val_accuracy: 0.8152\n",
      "Epoch 5/20\n",
      "20000/20000 [==============================] - 9s 450us/sample - loss: 0.4024 - accuracy: 0.8572 - val_loss: 0.4105 - val_accuracy: 0.8408\n",
      "Epoch 6/20\n",
      "20000/20000 [==============================] - 9s 453us/sample - loss: 0.3300 - accuracy: 0.8860 - val_loss: 0.3962 - val_accuracy: 0.8544\n",
      "Epoch 7/20\n",
      "20000/20000 [==============================] - 9s 453us/sample - loss: 0.2871 - accuracy: 0.9021 - val_loss: 0.4016 - val_accuracy: 0.8594\n",
      "Epoch 8/20\n",
      "20000/20000 [==============================] - 9s 437us/sample - loss: 0.2525 - accuracy: 0.9168 - val_loss: 0.4160 - val_accuracy: 0.8640\n",
      "Epoch 9/20\n",
      "20000/20000 [==============================] - 9s 430us/sample - loss: 0.2200 - accuracy: 0.9297 - val_loss: 0.4295 - val_accuracy: 0.8714\n",
      "Epoch 10/20\n",
      "20000/20000 [==============================] - 9s 443us/sample - loss: 0.1938 - accuracy: 0.9404 - val_loss: 0.4469 - val_accuracy: 0.8730\n",
      "Epoch 11/20\n",
      "20000/20000 [==============================] - 9s 435us/sample - loss: 0.1725 - accuracy: 0.9493 - val_loss: 0.4850 - val_accuracy: 0.8754\n",
      "Epoch 12/20\n",
      "20000/20000 [==============================] - 8s 421us/sample - loss: 0.1531 - accuracy: 0.9584 - val_loss: 0.5598 - val_accuracy: 0.8710\n",
      "Epoch 13/20\n",
      "20000/20000 [==============================] - 8s 422us/sample - loss: 0.1366 - accuracy: 0.9651 - val_loss: 0.6308 - val_accuracy: 0.8690\n",
      "Epoch 14/20\n",
      "20000/20000 [==============================] - 9s 435us/sample - loss: 0.1206 - accuracy: 0.9709 - val_loss: 0.6085 - val_accuracy: 0.8742\n",
      "Epoch 15/20\n",
      "20000/20000 [==============================] - 9s 440us/sample - loss: 0.1072 - accuracy: 0.9763 - val_loss: 0.6280 - val_accuracy: 0.8738\n",
      "Epoch 16/20\n",
      "20000/20000 [==============================] - 9s 435us/sample - loss: 0.0953 - accuracy: 0.9808 - val_loss: 0.6704 - val_accuracy: 0.8728\n",
      "Epoch 17/20\n",
      "20000/20000 [==============================] - 9s 428us/sample - loss: 0.0860 - accuracy: 0.9848 - val_loss: 0.6969 - val_accuracy: 0.8716\n",
      "Epoch 18/20\n",
      "20000/20000 [==============================] - 9s 446us/sample - loss: 0.0775 - accuracy: 0.9888 - val_loss: 0.7318 - val_accuracy: 0.8722\n",
      "Epoch 19/20\n",
      "20000/20000 [==============================] - 9s 443us/sample - loss: 0.0706 - accuracy: 0.9916 - val_loss: 0.7463 - val_accuracy: 0.8716\n",
      "Epoch 20/20\n",
      "20000/20000 [==============================] - 9s 460us/sample - loss: 0.0645 - accuracy: 0.9937 - val_loss: 0.7807 - val_accuracy: 0.8702\n"
     ]
    },
    {
     "data": {
      "image/png": "[encoded data removed]",
      "text/plain": [
       "<Figure size 432x288 with 1 Axes>"
      ]
     },
     "metadata": {
      "needs_background": "light"
     },
     "output_type": "display_data"
    },
    {
     "data": {
      "image/png": "[encoded data removed]",
      "text/plain": [
       "<Figure size 432x288 with 1 Axes>"
      ]
     },
     "metadata": {
      "needs_background": "light"
     },
     "output_type": "display_data"
    },
    {
     "name": "stdout",
     "output_type": "stream",
     "text": [
      "CPU times: user 8min 12s, sys: 52.9 s, total: 9min 5s\n",
      "Wall time: 3min 1s\n"
     ]
    }
   ],
   "source": [
    "%%time\n",
    "\n",
    "#3:03 \n",
    "import tensorflow as tf\n",
    "import matplotlib.pyplot as plt\n",
    "\n",
    "from tensorflow import keras\n",
    "from tensorflow.keras.datasets import imdb\n",
    "from tensorflow.keras.preprocessing import sequence\n",
    "from tensorflow.keras.models import Sequential\n",
    "from tensorflow.keras import layers\n",
    "from tensorflow.keras.optimizers import RMSprop\n",
    "\n",
    "# IMDB Preprocessing\n",
    "\n",
    "max_features = 50000\n",
    "max_len = 1000\n",
    "\n",
    "print('Data Loading...')\n",
    "imdb_data = tf.keras.datasets.imdb\n",
    "\n",
    "(x_train, y_train), (x_test, y_test) = imdb_data.load_data(num_words = max_features)\n",
    "print(len(x_train), 'Training Sequence')\n",
    "print(len(x_test), 'Test Sequence')\n",
    "\n",
    "print('Sequence Padding (Samples * time)')\n",
    "\n",
    "x_train = sequence.pad_sequences(x_train, maxlen = max_len)\n",
    "x_test = sequence.pad_sequences(x_test, maxlen = max_len)\n",
    "print('Size of x_train', x_train.shape)\n",
    "print('Size of x_test', x_test.shape)\n",
    "\n",
    "# 1D ConvNet for IMDB data (training & evaluation)\n",
    "\n",
    "model = Sequential()\n",
    "model.add(layers.Embedding(max_features, 128, input_length = max_len))\n",
    "model.add(layers.Conv1D(32, 7, activation = 'relu'))\n",
    "model.add(layers.MaxPooling1D(5))\n",
    "model.add(layers.Conv1D(32, 7, activation = 'relu'))\n",
    "model.add(layers.GlobalMaxPooling1D())\n",
    "model.add(layers.Dense(1))\n",
    "\n",
    "'''\n",
    "GlobalAveragePooling1D, GlobalMaxPooling1D 풀링은 \n",
    "(samples, timestpes, features) 크기의 텐서를 입력받아 (samples, features) 크기의 텐서를 출력.\n",
    "즉 시간 축 전체에 풀링을 적용.\n",
    "\n",
    "GlobalAveragePooling2D, GlobalMaxPooling2D 풀링은\n",
    "(samples, height, width, channels) 크기의 텐서를 입력받고 (samples, channels) 크기의 텐서를 출력.\n",
    "즉 특성 맵 공간 차원 전체에 대한 풀링\n",
    "'''\n",
    "\n",
    "model.summary()\n",
    "\n",
    "model.compile(optimizer = RMSprop(lr = 1e-4), loss = 'binary_crossentropy', metrics = ['accuracy'])\n",
    "\n",
    "history = model.fit(x_train, y_train, epochs = 20, batch_size = 128, validation_split = 0.2)\n",
    "\n",
    "# Result Graph\n",
    "\n",
    "loss = history.history['loss']\n",
    "val_loss = history.history['val_loss']\n",
    "\n",
    "acc = history.history['accuracy']\n",
    "val_acc = history.history['val_accuracy']\n",
    "\n",
    "epochs = range(1, len(loss) + 1)\n",
    "\n",
    "\n",
    "plt.plot(epochs, loss ,'bo', label = 'Training Loss')\n",
    "plt.plot(epochs, val_loss, 'b', label = 'Validation Loss')\n",
    "plt.title('Training and Validation Loss')\n",
    "plt.legend()\n",
    "plt.figure()\n",
    "\n",
    "plt.plot(epochs, acc ,'bo', label = 'Training Accuracy')\n",
    "plt.plot(epochs, val_acc, 'b', label = 'Validation Accuracy')\n",
    "plt.title('Training and Validation Accuracy')\n",
    "plt.legend()\n",
    "\n",
    "\n",
    "plt.show()"
   ]
  }
 ],
 "metadata": {
  "kernelspec": {
   "display_name": "Python 3",
   "language": "python",
   "name": "python3"
  },
  "language_info": {
   "codemirror_mode": {
    "name": "ipython",
    "version": 3
   },
   "file_extension": ".py",
   "mimetype": "text/x-python",
   "name": "python",
   "nbconvert_exporter": "python",
   "pygments_lexer": "ipython3",
   "version": "3.6.10"
  }
 },
 "nbformat": 4,
 "nbformat_minor": 4
}
