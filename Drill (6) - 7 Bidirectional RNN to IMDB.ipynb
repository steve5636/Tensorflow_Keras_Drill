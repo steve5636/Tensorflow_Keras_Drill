{
 "cells": [
  {
   "cell_type": "code",
   "execution_count": 6,
   "metadata": {
    "scrolled": true
   },
   "outputs": [
    {
     "name": "stdout",
     "output_type": "stream",
     "text": [
      "Train on 20000 samples, validate on 5000 samples\n",
      "Epoch 1/10\n",
      "20000/20000 [==============================] - 40s 2ms/sample - loss: 0.5045 - accuracy: 0.7558 - val_loss: 0.3858 - val_accuracy: 0.8438\n",
      "Epoch 2/10\n",
      "20000/20000 [==============================] - 37s 2ms/sample - loss: 0.2928 - accuracy: 0.8897 - val_loss: 0.5353 - val_accuracy: 0.8174\n",
      "Epoch 3/10\n",
      "20000/20000 [==============================] - 37s 2ms/sample - loss: 0.2245 - accuracy: 0.9179 - val_loss: 0.6991 - val_accuracy: 0.7666\n",
      "Epoch 4/10\n",
      "20000/20000 [==============================] - 37s 2ms/sample - loss: 0.1788 - accuracy: 0.9393 - val_loss: 0.5429 - val_accuracy: 0.7922\n",
      "Epoch 5/10\n",
      "20000/20000 [==============================] - 37s 2ms/sample - loss: 0.1497 - accuracy: 0.9499 - val_loss: 0.3935 - val_accuracy: 0.8580\n",
      "Epoch 6/10\n",
      "20000/20000 [==============================] - 37s 2ms/sample - loss: 0.1249 - accuracy: 0.9566 - val_loss: 0.3980 - val_accuracy: 0.8576\n",
      "Epoch 7/10\n",
      "20000/20000 [==============================] - 36s 2ms/sample - loss: 0.1029 - accuracy: 0.9663 - val_loss: 0.4694 - val_accuracy: 0.8582\n",
      "Epoch 8/10\n",
      "20000/20000 [==============================] - 36s 2ms/sample - loss: 0.0890 - accuracy: 0.9726 - val_loss: 0.4669 - val_accuracy: 0.8784\n",
      "Epoch 9/10\n",
      "20000/20000 [==============================] - 37s 2ms/sample - loss: 0.0758 - accuracy: 0.9751 - val_loss: 0.4166 - val_accuracy: 0.8706\n",
      "Epoch 10/10\n",
      "20000/20000 [==============================] - 37s 2ms/sample - loss: 0.0787 - accuracy: 0.9766 - val_loss: 0.4425 - val_accuracy: 0.8728\n",
      "CPU times: user 22min 9s, sys: 3min 40s, total: 25min 49s\n",
      "Wall time: 6min 16s\n"
     ]
    }
   ],
   "source": [
    "%%time\n",
    "# 거꾸로 된 시퀀스를 사용한 LSTM 훈련 & 평가\n",
    "import tensorflow as tf\n",
    "\n",
    "from tensorflow import keras\n",
    "from tensorflow.keras.datasets import imdb\n",
    "from tensorflow.keras.preprocessing import sequence\n",
    "from tensorflow.keras import layers\n",
    "from tensorflow.keras.models import Sequential\n",
    "\n",
    "imdb_data = tf.keras.datasets.imdb\n",
    "max_features = 20000\n",
    "maxlen = 500\n",
    "\n",
    "(x_train, y_train), (x_test, y_test) = imdb_data.load_data(num_words = max_features)\n",
    "\n",
    "x_train = [x[::-1] for x in x_train]\n",
    "x_test = [x[::-1] for x in x_test] # 시퀀스 뒤집기\n",
    "\n",
    "x_train = sequence.pad_sequences(x_train, maxlen = maxlen)\n",
    "x_test = sequence.pad_sequences(x_test, maxlen = maxlen) # 시퀀스에 패딩 추가\n",
    "\n",
    "model = Sequential()\n",
    "model.add(layers.Embedding(max_features, 128))\n",
    "model.add(layers.LSTM(32))\n",
    "model.add(layers.Dense(1, activation = 'sigmoid'))\n",
    "\n",
    "model.compile(optimizer = 'rmsprop', loss = 'binary_crossentropy', metrics = ['binary_accuracy'])\n",
    "\n",
    "history = model.fit(x_train, y_train, epochs = 10, batch_size = 128, validation_split = 0.2)"
   ]
  },
  {
   "cell_type": "code",
   "execution_count": 7,
   "metadata": {
    "scrolled": true
   },
   "outputs": [
    {
     "name": "stdout",
     "output_type": "stream",
     "text": [
      "Train on 20000 samples, validate on 5000 samples\n",
      "Epoch 1/10\n",
      "20000/20000 [==============================] - 59s 3ms/sample - loss: 0.4924 - accuracy: 0.7631 - val_loss: 0.3530 - val_accuracy: 0.8654\n",
      "Epoch 2/10\n",
      "20000/20000 [==============================] - 52s 3ms/sample - loss: 0.2973 - accuracy: 0.8883 - val_loss: 0.3279 - val_accuracy: 0.8822\n",
      "Epoch 3/10\n",
      "20000/20000 [==============================] - 52s 3ms/sample - loss: 0.2308 - accuracy: 0.9155 - val_loss: 0.3070 - val_accuracy: 0.8870\n",
      "Epoch 4/10\n",
      "20000/20000 [==============================] - 52s 3ms/sample - loss: 0.1781 - accuracy: 0.9360 - val_loss: 0.3213 - val_accuracy: 0.8920\n",
      "Epoch 5/10\n",
      "20000/20000 [==============================] - 52s 3ms/sample - loss: 0.1466 - accuracy: 0.9510 - val_loss: 0.3528 - val_accuracy: 0.8816\n",
      "Epoch 6/10\n",
      "20000/20000 [==============================] - 53s 3ms/sample - loss: 0.1259 - accuracy: 0.9555 - val_loss: 0.4824 - val_accuracy: 0.8660\n",
      "Epoch 7/10\n",
      "20000/20000 [==============================] - 52s 3ms/sample - loss: 0.1092 - accuracy: 0.9640 - val_loss: 0.3982 - val_accuracy: 0.8670\n",
      "Epoch 8/10\n",
      "20000/20000 [==============================] - 52s 3ms/sample - loss: 0.0936 - accuracy: 0.9699 - val_loss: 0.3972 - val_accuracy: 0.8702\n",
      "Epoch 9/10\n",
      "20000/20000 [==============================] - 53s 3ms/sample - loss: 0.0871 - accuracy: 0.9721 - val_loss: 0.5317 - val_accuracy: 0.8732\n",
      "Epoch 10/10\n",
      "20000/20000 [==============================] - 52s 3ms/sample - loss: 0.0783 - accuracy: 0.9758 - val_loss: 0.4920 - val_accuracy: 0.8382\n",
      "CPU times: user 47min 41s, sys: 8min 22s, total: 56min 4s\n",
      "Wall time: 8min 55s\n"
     ]
    }
   ],
   "source": [
    "%%time\n",
    "# Bidirectional LSTM 훈련 & 평가\n",
    "import tensorflow as tf\n",
    "\n",
    "from tensorflow import keras\n",
    "from tensorflow.keras.datasets import imdb\n",
    "from tensorflow.keras.preprocessing import sequence\n",
    "from tensorflow.keras import layers\n",
    "from tensorflow.keras.models import Sequential\n",
    "\n",
    "imdb_data = tf.keras.datasets.imdb\n",
    "max_features = 20000\n",
    "maxlen = 500\n",
    "\n",
    "(x_train, y_train), (x_test, y_test) = imdb_data.load_data(num_words = max_features)\n",
    "\n",
    "x_train = [x[::-1] for x in x_train]\n",
    "x_test = [x[::-1] for x in x_test] # 시퀀스 뒤집기\n",
    "\n",
    "x_train = sequence.pad_sequences(x_train, maxlen = maxlen)\n",
    "x_test = sequence.pad_sequences(x_test, maxlen = maxlen) # 시퀀스에 패딩 추가\n",
    "\n",
    "model = Sequential()\n",
    "model.add(layers.Embedding(max_features, 128))\n",
    "model.add(layers.Bidirectional(layers.LSTM(32)))\n",
    "model.add(layers.Dense(1, activation = 'sigmoid'))\n",
    "\n",
    "model.compile(optimizer = 'rmsprop', loss = 'binary_crossentropy', metrics = ['accuracy'])\n",
    "\n",
    "history = model.fit(x_train, y_train, epochs = 10, batch_size = 128, validation_split = 0.2)"
   ]
  }
 ],
 "metadata": {
  "kernelspec": {
   "display_name": "Python 3",
   "language": "python",
   "name": "python3"
  },
  "language_info": {
   "codemirror_mode": {
    "name": "ipython",
    "version": 3
   },
   "file_extension": ".py",
   "mimetype": "text/x-python",
   "name": "python",
   "nbconvert_exporter": "python",
   "pygments_lexer": "ipython3",
   "version": "3.6.10"
  }
 },
 "nbformat": 4,
 "nbformat_minor": 4
}
