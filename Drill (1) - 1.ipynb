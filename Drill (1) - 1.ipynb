{
 "cells": [
  {
   "cell_type": "code",
   "execution_count": 2,
   "metadata": {},
   "outputs": [
    {
     "output_type": "stream",
     "name": "stdout",
     "text": [
      "Epoch 1/10\n",
      "1875/1875 [==============================] - 2s 753us/step - loss: 0.4544 - accuracy: 0.8715\n",
      "Epoch 2/10\n",
      "1875/1875 [==============================] - 1s 757us/step - loss: 0.1353 - accuracy: 0.9605\n",
      "Epoch 3/10\n",
      "1875/1875 [==============================] - 1s 750us/step - loss: 0.0923 - accuracy: 0.9724\n",
      "Epoch 4/10\n",
      "1875/1875 [==============================] - 1s 752us/step - loss: 0.0736 - accuracy: 0.9772\n",
      "Epoch 5/10\n",
      "1875/1875 [==============================] - 1s 754us/step - loss: 0.0563 - accuracy: 0.9826\n",
      "Epoch 6/10\n",
      "1875/1875 [==============================] - 1s 774us/step - loss: 0.0474 - accuracy: 0.9853\n",
      "Epoch 7/10\n",
      "1875/1875 [==============================] - 1s 764us/step - loss: 0.0419 - accuracy: 0.9871\n",
      "Epoch 8/10\n",
      "1875/1875 [==============================] - 1s 779us/step - loss: 0.0379 - accuracy: 0.9879\n",
      "Epoch 9/10\n",
      "1875/1875 [==============================] - 1s 772us/step - loss: 0.0309 - accuracy: 0.9901\n",
      "Epoch 10/10\n",
      "1875/1875 [==============================] - 1s 794us/step - loss: 0.0254 - accuracy: 0.9915\n",
      "313/313 [==============================] - 0s 606us/step - loss: 0.0709 - accuracy: 0.9798\n",
      "Loss : 0.0708986148238182, Acc : 0.9797999858856201\n",
      "(1, 28, 28)\n",
      "CPU times: user 31.7 s, sys: 8.02 s, total: 39.7 s\n",
      "Wall time: 15.4 s\n"
     ]
    },
    {
     "output_type": "execute_result",
     "data": {
      "text/plain": [
       "0"
      ]
     },
     "metadata": {},
     "execution_count": 2
    }
   ],
   "source": [
    "%%time\n",
    "# no XLA 17s\n",
    "import tensorflow as tf\n",
    "import numpy as np\n",
    "from tensorflow import keras\n",
    "\n",
    "mnist_data = tf.keras.datasets.mnist\n",
    "(train_images, train_labels), (test_images, test_labels) = mnist_data.load_data()\n",
    "train_images = train_images.astype('float32')\n",
    "train_images = train_images / 255\n",
    "    \n",
    "test_images = test_images.astype('float32')\n",
    "    \n",
    "test_images = test_images / 255\n",
    "model = keras.Sequential([\n",
    "    keras.layers.Flatten(input_shape=(28, 28)),\n",
    "    keras.layers.Dense(128, activation = 'relu'),\n",
    "    keras.layers.Dropout(0.1),\n",
    "    keras.layers.Dense(10, activation = tf.nn.softmax)])\n",
    "    \n",
    "model.compile(optimizer = 'adam', loss ='sparse_categorical_crossentropy',metrics=['accuracy'])\n",
    "    \n",
    "model.fit(train_images, train_labels, epochs=10)\n",
    "    \n",
    "loss, acc = model.evaluate(test_images, test_labels)\n",
    "print('Loss : {}, Acc : {}'.format(loss, acc))\n",
    "predict_test = test_images[10]\n",
    "predict_test.shape\n",
    "predict_test = np.expand_dims(predict_test, 0)\n",
    "print(predict_test.shape)\n",
    "result = model.predict(predict_test)\n",
    "np.argmax(result)"
   ]
  },
  {
   "cell_type": "code",
   "execution_count": null,
   "metadata": {
    "colab": {
     "base_uri": "https://localhost:8080/",
     "height": 593
    },
    "colab_type": "code",
    "executionInfo": {
     "elapsed": 47412,
     "status": "ok",
     "timestamp": 1580485883390,
     "user": {
      "displayName": "박제건",
      "photoUrl": "https://lh3.googleusercontent.com/a-/AAuE7mDs6JORCJdehVzcwppEOdmHmnTAGST_PoAuHLXk=s64",
      "userId": "01930663103651943875"
     },
     "user_tz": -540
    },
    "id": "wETyzJAjRMYR",
    "outputId": "a9452ba9-8432-4d48-9f15-7df34a3b3b07"
   },
   "outputs": [],
   "source": [
    "%%time\n",
    "#27.5, XLA,\n",
    "import tensorflow as tf\n",
    "import numpy as np\n",
    "from tensorflow import keras\n",
    "tf.compat.v1.disable_eager_execution()\n",
    "# tf.debugging.set_log_device_placement(True)\n",
    "# train_images.shape #(60000, 28, 28)\n",
    "# train_labels.shape #(60000, )\n",
    "\n",
    "with tf.xla.experimental.jit_scope():\n",
    "    mnist_data = tf.keras.datasets.mnist\n",
    "    (train_images, train_labels), (test_images, test_labels) = mnist_data.load_data()\n",
    "    train_images = train_images.astype('float32')\n",
    "    train_images = train_images / 255\n",
    "    \n",
    "    test_images = test_images.astype('float32')\n",
    "    \n",
    "    test_images = test_images / 255\n",
    "    model = keras.Sequential([\n",
    "        keras.layers.Flatten(input_shape=(28, 28)),\n",
    "        keras.layers.Dense(128, activation = 'relu'),\n",
    "        keras.layers.Dropout(0.1),\n",
    "        keras.layers.Dense(10, activation = tf.nn.softmax)])\n",
    "    \n",
    "    model.compile(optimizer = 'adam', loss ='sparse_categorical_crossentropy',metrics=['accuracy'])\n",
    "    \n",
    "    model.fit(train_images, train_labels, epochs=10)\n",
    "    \n",
    "    loss, acc = model.evaluate(test_images, test_labels)\n",
    "    print('Loss : {}, Acc : {}'.format(loss, acc))\n",
    "    predict_test = test_images[10]\n",
    "    predict_test.shape\n",
    "    predict_test = np.expand_dims(predict_test, 0)\n",
    "    print(predict_test.shape)\n",
    "    result = model.predict(predict_test)\n",
    "    np.argmax(result)\n"
   ]
  },
  {
   "cell_type": "code",
   "execution_count": null,
   "metadata": {},
   "outputs": [],
   "source": [
    "%%time\n",
    "# 1:22 Apple Tensorflow\n",
    "import tensorflow as tf\n",
    "import numpy as np\n",
    "from tensorflow import keras\n",
    "\n",
    "mnist_data = tf.keras.datasets.mnist\n",
    "(train_images, train_labels), (test_images, test_labels) = mnist_data.load_data()\n",
    "train_images = train_images.astype('float32')\n",
    "train_images = train_images / 255\n",
    "    \n",
    "test_images = test_images.astype('float32')\n",
    "    \n",
    "test_images = test_images / 255\n",
    "model = keras.Sequential([\n",
    "    keras.layers.Flatten(input_shape=(28, 28)),\n",
    "    keras.layers.Dense(128, activation = 'relu'),\n",
    "    keras.layers.Dropout(0.1),\n",
    "    keras.layers.Dense(10, activation = tf.nn.softmax)])\n",
    "    \n",
    "model.compile(optimizer = 'adam', loss ='sparse_categorical_crossentropy',metrics=['accuracy'])\n",
    "    \n",
    "model.fit(train_images, train_labels, epochs=10)\n",
    "    \n",
    "loss, acc = model.evaluate(test_images, test_labels)\n",
    "print('Loss : {}, Acc : {}'.format(loss, acc))\n",
    "predict_test = test_images[10]\n",
    "predict_test.shape\n",
    "predict_test = np.expand_dims(predict_test, 0)\n",
    "print(predict_test.shape)\n",
    "result = model.predict(predict_test)\n",
    "np.argmax(result)"
   ]
  },
  {
   "cell_type": "markdown",
   "metadata": {
    "colab_type": "text",
    "id": "tfk9nt-AR5zM"
   },
   "source": [
    "# 새 섹션"
   ]
  }
 ],
 "metadata": {
  "colab": {
   "collapsed_sections": [],
   "name": "Drill (1) .ipynb",
   "provenance": []
  },
  "kernelspec": {
   "name": "python3",
   "display_name": "Python 3.6.10 64-bit ('test': conda)",
   "metadata": {
    "interpreter": {
     "hash": "54aae9df1e27d471e6310c85bbd918bed1b92723cbb32d19df83573bbd69b48d"
    }
   }
  },
  "language_info": {
   "codemirror_mode": {
    "name": "ipython",
    "version": 3
   },
   "file_extension": ".py",
   "mimetype": "text/x-python",
   "name": "python",
   "nbconvert_exporter": "python",
   "pygments_lexer": "ipython3",
   "version": "3.6.10-final"
  }
 },
 "nbformat": 4,
 "nbformat_minor": 1
}