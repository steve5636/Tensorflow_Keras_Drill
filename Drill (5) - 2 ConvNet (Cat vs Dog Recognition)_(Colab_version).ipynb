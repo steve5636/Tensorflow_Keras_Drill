{
 "cells": [
  {
   "cell_type": "code",
   "execution_count": 0,
   "metadata": {
    "colab": {},
    "colab_type": "code",
    "id": "_KNz_c3MrYUW"
   },
   "outputs": [],
   "source": [
    "pip install --upgrade tensorflow "
   ]
  },
  {
   "cell_type": "code",
   "execution_count": 0,
   "metadata": {
    "colab": {
     "base_uri": "https://localhost:8080/",
     "height": 34
    },
    "colab_type": "code",
    "executionInfo": {
     "elapsed": 1145,
     "status": "ok",
     "timestamp": 1581499112399,
     "user": {
      "displayName": "박제건",
      "photoUrl": "https://lh3.googleusercontent.com/a-/AAuE7mDs6JORCJdehVzcwppEOdmHmnTAGST_PoAuHLXk=s64",
      "userId": "01930663103651943875"
     },
     "user_tz": -540
    },
    "id": "YdqfrwbgsLkH",
    "outputId": "fc701243-7b8c-441e-d46e-b91176fd99c9"
   },
   "outputs": [
    {
     "data": {
      "text/plain": [
       "'2.2.4-tf'"
      ]
     },
     "execution_count": 5,
     "metadata": {
      "tags": []
     },
     "output_type": "execute_result"
    }
   ],
   "source": [
    "import tensorflow as tf\n",
    "from tensorflow import keras\n",
    "tf.keras.__version__"
   ]
  },
  {
   "cell_type": "code",
   "execution_count": 1,
   "metadata": {
    "colab": {
     "base_uri": "https://localhost:8080/",
     "height": 122
    },
    "colab_type": "code",
    "executionInfo": {
     "elapsed": 25105,
     "status": "ok",
     "timestamp": 1581747565032,
     "user": {
      "displayName": "박제건",
      "photoUrl": "https://lh3.googleusercontent.com/a-/AAuE7mDs6JORCJdehVzcwppEOdmHmnTAGST_PoAuHLXk=s64",
      "userId": "01930663103651943875"
     },
     "user_tz": -540
    },
    "id": "T3Jc2PvDshCP",
    "outputId": "7ebcc644-96d6-4064-b3bc-4a17165501f5"
   },
   "outputs": [
    {
     "name": "stdout",
     "output_type": "stream",
     "text": [
      "Go to this URL in a browser: https://accounts.google.com/o/oauth2/auth?client_id=947318989803-6bn6qk8qdgf4n4g3pfee6491hc0brc4i.apps.googleusercontent.com&redirect_uri=urn%3aietf%3awg%3aoauth%3a2.0%3aoob&response_type=code&scope=email%20https%3a%2f%2fwww.googleapis.com%2fauth%2fdocs.test%20https%3a%2f%2fwww.googleapis.com%2fauth%2fdrive%20https%3a%2f%2fwww.googleapis.com%2fauth%2fdrive.photos.readonly%20https%3a%2f%2fwww.googleapis.com%2fauth%2fpeopleapi.readonly\n",
      "\n",
      "Enter your authorization code:\n",
      "··········\n",
      "Mounted at /content/drive\n"
     ]
    }
   ],
   "source": [
    "from google.colab import drive\n",
    "drive.mount('/content/drive')"
   ]
  },
  {
   "cell_type": "code",
   "execution_count": 4,
   "metadata": {
    "colab": {
     "base_uri": "https://localhost:8080/",
     "height": 1000
    },
    "colab_type": "code",
    "executionInfo": {
     "elapsed": 348362,
     "status": "ok",
     "timestamp": 1581750457004,
     "user": {
      "displayName": "박제건",
      "photoUrl": "https://lh3.googleusercontent.com/a-/AAuE7mDs6JORCJdehVzcwppEOdmHmnTAGST_PoAuHLXk=s64",
      "userId": "01930663103651943875"
     },
     "user_tz": -540
    },
    "id": "EcqEF5bR0Q-v",
    "outputId": "21e72b9a-8edd-4d57-c8c7-4593f031c126"
   },
   "outputs": [
    {
     "name": "stdout",
     "output_type": "stream",
     "text": [
      "/content/drive/My Drive/Colab Notebooks/jupyter_project\n",
      "Found 2000 images belonging to 2 classes.\n",
      "Found 1000 images belonging to 2 classes.\n",
      "Epoch 1/30\n",
      " 99/100 [============================>.] - ETA: 0s - loss: 0.6878 - binary_accuracy: 0.5343Epoch 1/30\n",
      "100/100 [==============================] - 13s 128ms/step - loss: 0.6876 - binary_accuracy: 0.5350 - val_loss: 0.6893 - val_binary_accuracy: 0.5240\n",
      "Epoch 2/30\n",
      " 99/100 [============================>.] - ETA: 0s - loss: 0.6444 - binary_accuracy: 0.6399Epoch 1/30\n",
      "100/100 [==============================] - 12s 118ms/step - loss: 0.6434 - binary_accuracy: 0.6405 - val_loss: 0.6402 - val_binary_accuracy: 0.6150\n",
      "Epoch 3/30\n",
      " 99/100 [============================>.] - ETA: 0s - loss: 0.5974 - binary_accuracy: 0.6803Epoch 1/30\n",
      "100/100 [==============================] - 12s 117ms/step - loss: 0.5977 - binary_accuracy: 0.6785 - val_loss: 0.6216 - val_binary_accuracy: 0.6680\n",
      "Epoch 4/30\n",
      " 99/100 [============================>.] - ETA: 0s - loss: 0.5585 - binary_accuracy: 0.7131Epoch 1/30\n",
      "100/100 [==============================] - 12s 120ms/step - loss: 0.5595 - binary_accuracy: 0.7125 - val_loss: 0.6011 - val_binary_accuracy: 0.6780\n",
      "Epoch 5/30\n",
      " 99/100 [============================>.] - ETA: 0s - loss: 0.5267 - binary_accuracy: 0.7283Epoch 1/30\n",
      "100/100 [==============================] - 11s 113ms/step - loss: 0.5278 - binary_accuracy: 0.7260 - val_loss: 0.6124 - val_binary_accuracy: 0.6590\n",
      "Epoch 6/30\n",
      " 99/100 [============================>.] - ETA: 0s - loss: 0.5038 - binary_accuracy: 0.7475Epoch 1/30\n",
      "100/100 [==============================] - 11s 113ms/step - loss: 0.5036 - binary_accuracy: 0.7480 - val_loss: 0.6849 - val_binary_accuracy: 0.6520\n",
      "Epoch 7/30\n",
      " 99/100 [============================>.] - ETA: 0s - loss: 0.4822 - binary_accuracy: 0.7768Epoch 1/30\n",
      "100/100 [==============================] - 11s 111ms/step - loss: 0.4829 - binary_accuracy: 0.7760 - val_loss: 0.5657 - val_binary_accuracy: 0.7120\n",
      "Epoch 8/30\n",
      " 99/100 [============================>.] - ETA: 0s - loss: 0.4615 - binary_accuracy: 0.7914Epoch 1/30\n",
      "100/100 [==============================] - 12s 117ms/step - loss: 0.4609 - binary_accuracy: 0.7915 - val_loss: 0.5621 - val_binary_accuracy: 0.7020\n",
      "Epoch 9/30\n",
      " 99/100 [============================>.] - ETA: 0s - loss: 0.4251 - binary_accuracy: 0.8091Epoch 1/30\n",
      "100/100 [==============================] - 12s 120ms/step - loss: 0.4250 - binary_accuracy: 0.8085 - val_loss: 0.5856 - val_binary_accuracy: 0.7070\n",
      "Epoch 10/30\n",
      " 99/100 [============================>.] - ETA: 0s - loss: 0.4014 - binary_accuracy: 0.8146Epoch 1/30\n",
      "100/100 [==============================] - 11s 114ms/step - loss: 0.4026 - binary_accuracy: 0.8145 - val_loss: 0.5369 - val_binary_accuracy: 0.7280\n",
      "Epoch 11/30\n",
      " 99/100 [============================>.] - ETA: 0s - loss: 0.3752 - binary_accuracy: 0.8364Epoch 1/30\n",
      "100/100 [==============================] - 11s 113ms/step - loss: 0.3755 - binary_accuracy: 0.8355 - val_loss: 0.5665 - val_binary_accuracy: 0.7140\n",
      "Epoch 12/30\n",
      " 99/100 [============================>.] - ETA: 0s - loss: 0.3527 - binary_accuracy: 0.8500Epoch 1/30\n",
      "100/100 [==============================] - 11s 111ms/step - loss: 0.3531 - binary_accuracy: 0.8495 - val_loss: 0.5385 - val_binary_accuracy: 0.7410\n",
      "Epoch 13/30\n",
      " 99/100 [============================>.] - ETA: 0s - loss: 0.3332 - binary_accuracy: 0.8586Epoch 1/30\n",
      "100/100 [==============================] - 11s 112ms/step - loss: 0.3337 - binary_accuracy: 0.8585 - val_loss: 0.5709 - val_binary_accuracy: 0.7330\n",
      "Epoch 14/30\n",
      " 99/100 [============================>.] - ETA: 0s - loss: 0.3092 - binary_accuracy: 0.8707Epoch 1/30\n",
      "100/100 [==============================] - 11s 109ms/step - loss: 0.3083 - binary_accuracy: 0.8715 - val_loss: 0.5451 - val_binary_accuracy: 0.7460\n",
      "Epoch 15/30\n",
      " 99/100 [============================>.] - ETA: 0s - loss: 0.2845 - binary_accuracy: 0.8843Epoch 1/30\n",
      "100/100 [==============================] - 12s 116ms/step - loss: 0.2848 - binary_accuracy: 0.8845 - val_loss: 0.5663 - val_binary_accuracy: 0.7490\n",
      "Epoch 16/30\n",
      " 99/100 [============================>.] - ETA: 0s - loss: 0.2745 - binary_accuracy: 0.8939Epoch 1/30\n",
      "100/100 [==============================] - 11s 110ms/step - loss: 0.2742 - binary_accuracy: 0.8940 - val_loss: 0.5903 - val_binary_accuracy: 0.7410\n",
      "Epoch 17/30\n",
      " 99/100 [============================>.] - ETA: 0s - loss: 0.2488 - binary_accuracy: 0.8934Epoch 1/30\n",
      "100/100 [==============================] - 11s 110ms/step - loss: 0.2488 - binary_accuracy: 0.8940 - val_loss: 0.5798 - val_binary_accuracy: 0.7360\n",
      "Epoch 18/30\n",
      " 99/100 [============================>.] - ETA: 0s - loss: 0.2255 - binary_accuracy: 0.9146Epoch 1/30\n",
      "100/100 [==============================] - 11s 114ms/step - loss: 0.2254 - binary_accuracy: 0.9145 - val_loss: 0.5872 - val_binary_accuracy: 0.7510\n",
      "Epoch 19/30\n",
      " 99/100 [============================>.] - ETA: 0s - loss: 0.2073 - binary_accuracy: 0.9202Epoch 1/30\n",
      "100/100 [==============================] - 11s 113ms/step - loss: 0.2065 - binary_accuracy: 0.9210 - val_loss: 0.6299 - val_binary_accuracy: 0.7340\n",
      "Epoch 20/30\n",
      " 99/100 [============================>.] - ETA: 0s - loss: 0.1902 - binary_accuracy: 0.9338Epoch 1/30\n",
      "100/100 [==============================] - 12s 118ms/step - loss: 0.1895 - binary_accuracy: 0.9345 - val_loss: 0.6217 - val_binary_accuracy: 0.7390\n",
      "Epoch 21/30\n",
      " 99/100 [============================>.] - ETA: 0s - loss: 0.1656 - binary_accuracy: 0.9414Epoch 1/30\n",
      "100/100 [==============================] - 12s 120ms/step - loss: 0.1647 - binary_accuracy: 0.9420 - val_loss: 0.6462 - val_binary_accuracy: 0.7340\n",
      "Epoch 22/30\n",
      " 99/100 [============================>.] - ETA: 0s - loss: 0.1417 - binary_accuracy: 0.9571Epoch 1/30\n",
      "100/100 [==============================] - 12s 120ms/step - loss: 0.1424 - binary_accuracy: 0.9565 - val_loss: 0.6732 - val_binary_accuracy: 0.7390\n",
      "Epoch 23/30\n",
      " 99/100 [============================>.] - ETA: 0s - loss: 0.1310 - binary_accuracy: 0.9540Epoch 1/30\n",
      "100/100 [==============================] - 12s 118ms/step - loss: 0.1304 - binary_accuracy: 0.9545 - val_loss: 0.6830 - val_binary_accuracy: 0.7470\n",
      "Epoch 24/30\n",
      " 99/100 [============================>.] - ETA: 0s - loss: 0.1075 - binary_accuracy: 0.9677Epoch 1/30\n",
      "100/100 [==============================] - 12s 119ms/step - loss: 0.1071 - binary_accuracy: 0.9680 - val_loss: 0.7645 - val_binary_accuracy: 0.7170\n",
      "Epoch 25/30\n",
      " 99/100 [============================>.] - ETA: 0s - loss: 0.0962 - binary_accuracy: 0.9753Epoch 1/30\n",
      "100/100 [==============================] - 12s 121ms/step - loss: 0.0969 - binary_accuracy: 0.9750 - val_loss: 0.9439 - val_binary_accuracy: 0.6990\n",
      "Epoch 26/30\n",
      " 99/100 [============================>.] - ETA: 0s - loss: 0.0791 - binary_accuracy: 0.9773Epoch 1/30\n",
      "100/100 [==============================] - 12s 116ms/step - loss: 0.0806 - binary_accuracy: 0.9760 - val_loss: 0.9191 - val_binary_accuracy: 0.7130\n",
      "Epoch 27/30\n",
      " 99/100 [============================>.] - ETA: 0s - loss: 0.0787 - binary_accuracy: 0.9773Epoch 1/30\n",
      "100/100 [==============================] - 11s 111ms/step - loss: 0.0788 - binary_accuracy: 0.9770 - val_loss: 0.8512 - val_binary_accuracy: 0.7180\n",
      "Epoch 28/30\n",
      " 99/100 [============================>.] - ETA: 0s - loss: 0.0574 - binary_accuracy: 0.9838Epoch 1/30\n",
      "100/100 [==============================] - 11s 113ms/step - loss: 0.0575 - binary_accuracy: 0.9835 - val_loss: 0.9534 - val_binary_accuracy: 0.7110\n",
      "Epoch 29/30\n",
      " 99/100 [============================>.] - ETA: 0s - loss: 0.0522 - binary_accuracy: 0.9854Epoch 1/30\n",
      "100/100 [==============================] - 11s 114ms/step - loss: 0.0524 - binary_accuracy: 0.9855 - val_loss: 0.8548 - val_binary_accuracy: 0.7420\n",
      "Epoch 30/30\n",
      " 99/100 [============================>.] - ETA: 0s - loss: 0.0429 - binary_accuracy: 0.9884Epoch 1/30\n",
      "100/100 [==============================] - 11s 112ms/step - loss: 0.0426 - binary_accuracy: 0.9885 - val_loss: 0.9544 - val_binary_accuracy: 0.7260\n"
     ]
    },
    {
     "data": {
      "image/png": "[encoded data removed]",
      "text/plain": [
       "<Figure size 432x288 with 1 Axes>"
      ]
     },
     "metadata": {
      "tags": []
     },
     "output_type": "display_data"
    },
    {
     "data": {
      "image/png": "[encoded data removed]",
      "text/plain": [
       "<Figure size 432x288 with 1 Axes>"
      ]
     },
     "metadata": {
      "tags": []
     },
     "output_type": "display_data"
    }
   ],
   "source": [
    "import tensorflow as tf\n",
    "import matplotlib.pyplot as plt\n",
    "from tensorflow import keras\n",
    "from tensorflow.keras import layers\n",
    "from tensorflow.keras import models\n",
    "from tensorflow.keras import optimizers\n",
    "from tensorflow.keras.preprocessing.image import ImageDataGenerator\n",
    "import os, shutil\n",
    "\n",
    "currentPath = os.getcwd()\n",
    "print(currentPath)\n",
    "os.chdir('/content/drive/My Drive/Colab Notebooks/jupyter_project/')\n",
    "\n",
    "\n",
    "'''\n",
    "original_dataset_dir = '/content/drive/My Drive/Colab Notebooks/jupyter_project/Datasets'\n",
    "# 원본 데이터셋을 압축 해제한 디렉터리 경로\n",
    "\n",
    "base_dir = '/Users/jaekunpark/Dataset/CatDog/partial'\n",
    "if os.path.exists(base_dir):  # 반복적인 실행을 위해 디렉토리를 삭제합니다.\n",
    "    shutil.rmtree(base_dir)   # 이 코드는 책에 포함되어 있지 않습니다.\n",
    "os.mkdir(base_dir)\n",
    "# 소규모 데이터셋을 저장할 디렉터리\n",
    "'''\n",
    "\n",
    "\n",
    "# 훈련, 검증, 테스트 분할을 위한 디렉터리\n",
    "train_dir = '/content/drive/My Drive/Colab Notebooks/jupyter_project/Datasets/train'\n",
    "\n",
    "validation_dir = '/content/drive/My Drive/Colab Notebooks/jupyter_project/Datasets/validation'\n",
    "\n",
    "test_dir = '/content/drive/My Drive/Colab Notebooks/jupyter_project/Datasets/test'\n",
    "\n",
    "\n",
    "# 훈련용 고양이 사진 디렉터리\n",
    "train_cats_dir = '/content/drive/My Drive/Colab Notebooks/jupyter_project/Datasets/train/cats'\n",
    "\n",
    "# 훈련용 강아지 사진 디렉터리\n",
    "train_dogs_dir = '/content/drive/My Drive/Colab Notebooks/jupyter_project/Datasets/train/dogs'\n",
    "\n",
    "\n",
    "# 검증용 고양이 사진 디렉터리\n",
    "validation_cats_dir = '/content/drive/My Drive/Colab Notebooks/jupyter_project/Datasets/validation/cats'\n",
    "\n",
    "# 검증용 강아지 사진 디렉터리\n",
    "validation_dogs_dir = '/content/drive/My Drive/Colab Notebooks/jupyter_project/Datasets/validation/dogs'\n",
    "\n",
    "# 테스트용 고양이 사진 디렉터리\n",
    "test_cats_dir = '/content/drive/My Drive/Colab Notebooks/jupyter_project/Datasets/test/cats'\n",
    "\n",
    "# 테스트용 강아지 사진 디렉터리\n",
    "test_dogs_dir = '/content/drive/My Drive/Colab Notebooks/jupyter_project/Datasets/test/dogs'\n",
    "\n",
    "\n",
    "'''\n",
    "# 처음 1000개의 고양이 사진을 train_cats_dir에 복사\n",
    "fnames = ['cat.{}.jpg'.format(i) for i in range(1000)]\n",
    "for fname in fnames:\n",
    "    src = os.path.join(original_dataset_dir, fname)\n",
    "    dst = os.path.join(train_cats_dir, fname)\n",
    "    shutil.copyfile(src, dst)\n",
    "    \n",
    "# 다음 500개의 고양이 사진을 validation_cats_dir에 복사\n",
    "fnames = ['cat.{}.jpg'.format(i) for i in range(1000, 1500)]\n",
    "for fname in fnames:\n",
    "    src = os.path.join(original_dataset_dir, fname)\n",
    "    dst = os.path.join(validation_cats_dir, fname)\n",
    "    shutil.copyfile(src, dst)\n",
    "\n",
    "# 다음 500개의 고양이 사진을 test_cats_dir에 복사\n",
    "fnames = ['cat.{}.jpg'.format(i) for i in range(1500, 2000)]\n",
    "for fname in fnames:\n",
    "    src = os.path.join(original_dataset_dir, fname)\n",
    "    dst = os.path.join(test_cats_dir, fname)\n",
    "    shutil.copyfile(src, dst)\n",
    "    \n",
    "# 처음 1000개의 강아지 사진을 train_dogs_dir에 복사\n",
    "fnames = ['dog.{}.jpg'.format(i) for i in range(1000)]\n",
    "for fname in fnames:\n",
    "    src = os.path.join(original_dataset_dir, fname)\n",
    "    dst = os.path.join(train_dogs_dir, fname)\n",
    "    shutil.copyfile(src, dst)\n",
    "    \n",
    "# 다음 500개의 강아지 사진을 validation_dogs_dir에 복사\n",
    "fnames = ['dog.{}.jpg'.format(i) for i in range(1000, 1500)]\n",
    "for fname in fnames:\n",
    "    src = os.path.join(original_dataset_dir, fname)\n",
    "    dst = os.path.join(validation_dogs_dir, fname)\n",
    "    shutil.copyfile(src, dst)\n",
    "\n",
    "# 다음 500개의 강아지 사진을 test_dogs_dir에 복사\n",
    "fnames = ['dog.{}.jpg'.format(i) for i in range(1500, 2000)]\n",
    "for fname in fnames:\n",
    "    src = os.path.join(original_dataset_dir, fname)\n",
    "    dst = os.path.join(test_dogs_dir, fname)\n",
    "    shutil.copyfile(src, dst)\n",
    "'''\n",
    "#-------------------------------------------------------------------------------------------\n",
    "\n",
    "# 강아지 vs 고양이 분류를 위한 소규모 ConvNet 생성\n",
    "model = models.Sequential()\n",
    "model.add(layers.Conv2D(32, (3, 3), activation = 'relu', input_shape = (150, 150, 3)))\n",
    "model.add(layers.MaxPooling2D((2, 2)))\n",
    "model.add(layers.Conv2D(64, (3, 3), activation = 'relu'))\n",
    "model.add(layers.MaxPooling2D((2,2)))\n",
    "model.add(layers.Conv2D(128, (3,3), activation = 'relu'))\n",
    "model.add(layers.MaxPooling2D((2,2)))\n",
    "model.add(layers.Conv2D(128, (3,3), activation = 'relu'))\n",
    "model.add(layers.MaxPooling2D((2,2)))\n",
    "model.add(layers.Flatten())\n",
    "model.add(layers.Dense(512, activation = 'relu'))\n",
    "model.add(layers.Dense(1, activation = 'sigmoid'))\n",
    "\n",
    "# 모델의 훈련 설정\n",
    "model.compile(loss = 'binary_crossentropy', optimizer = optimizers.RMSprop(lr = 1e-4), metrics = ['binary_accuracy'])\n",
    "\n",
    "# 데이터 전처리 - (네트워크 주입 전 부동 소수 타입 텐서로 전처리) \n",
    "'''\n",
    "ImageDataGenerator 클래스의 flow_from_directory() 메서드는 서브 디렉터리의 순서대로 레이블을 할당한다.\n",
    "여기에서는 'datasets/partial/train' 디렉터리 아래 'cats'와 'dogs'가 순서대로 0, 1 레이블을 가진다.\n",
    "즉 'dogs'가 target class가 되므로 최종 시그모이드의 출력은 강아지 이미지일 확률을 인코딩한다.\n",
    "cf)flow_from_directory(classes=['dogs', 'cats'])처럼 하면 'cats'가 타깃 클래스가 된다.\n",
    "'''\n",
    "# ImageDataGenerator를 사용하여 디렉터리에서 이미지 읽기\n",
    "\n",
    "    # 모든 이미지를 1/255로 스케일 조정\n",
    "train_datagen = ImageDataGenerator(rescale = 1./255)\n",
    "test_datagen = ImageDataGenerator(rescale = 1./255)\n",
    "\n",
    "train_generator = train_datagen.flow_from_directory(\n",
    "    train_dir, target_size = (150, 150), batch_size = 20, class_mode = 'binary')\n",
    "    # 모든 이미지를 150*150 크기로 바꾸고, binary_crossentropy loss를 사용하므로 이진 레이블이 필요\n",
    "\n",
    "validation_generator = test_datagen.flow_from_directory(\n",
    "    validation_dir, target_size = (150, 150), batch_size = 20, class_mode = 'binary')\n",
    "\n",
    "# 배치 제네레이터를 사용하여 모델 훈련\n",
    "history = model.fit_generator(train_generator, steps_per_epoch = 100, epochs = 30,\n",
    "                             validation_data = validation_generator,  validation_steps = 50)\n",
    "    # validation_generator의 배치가 20개로 지정되었으므로 전체 검증 데이터(1000개)를 사용하려면 validation_steps를 50으로 설정\n",
    "\n",
    "# 모델 저장\n",
    "model.save('cats_and_dogs_small_1.h5')\n",
    "\n",
    "# 훈련의 정확도와 손실 그래프\n",
    "acc = history.history['binary_accuracy']\n",
    "val_acc = history.history['val_binary_accuracy']\n",
    "loss = history.history['loss']\n",
    "val_loss = history.history['val_loss']\n",
    "\n",
    "epochs = range(1, len(acc) + 1)\n",
    "\n",
    "plt.plot(epochs, acc, 'bo', label = 'Training acc')\n",
    "plt.plot(epochs, val_acc,  'b', label = 'Validation loss')\n",
    "plt.title('Training and Validation loss')\n",
    "plt.legend()\n",
    "\n",
    "plt.figure()\n",
    "\n",
    "plt.plot(epochs, loss, 'bo', label = 'Training Loss')\n",
    "plt.plot(epochs, val_loss, 'b', label = 'Validation Loss')\n",
    "plt.title('Training and Validation loss')\n",
    "plt.legend()\n",
    "\n",
    "plt.show()"
   ]
  }
 ],
 "metadata": {
  "accelerator": "GPU",
  "colab": {
   "collapsed_sections": [],
   "name": "Drill (5) - 2 ConvNet (Cat vs Dog Recognition)_(Colab_version).ipynb",
   "provenance": [],
   "toc_visible": true
  },
  "kernelspec": {
   "display_name": "Python 3",
   "language": "python",
   "name": "python3"
  },
  "language_info": {
   "codemirror_mode": {
    "name": "ipython",
    "version": 3
   },
   "file_extension": ".py",
   "mimetype": "text/x-python",
   "name": "python",
   "nbconvert_exporter": "python",
   "pygments_lexer": "ipython3",
   "version": "3.6.10"
  }
 },
 "nbformat": 4,
 "nbformat_minor": 1
}
